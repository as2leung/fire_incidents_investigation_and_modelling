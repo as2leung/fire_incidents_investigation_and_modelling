{
 "cells": [
  {
   "cell_type": "markdown",
   "metadata": {},
   "source": [
    "# Exploring Fire Incidents - Analysis and Report"
   ]
  },
  {
   "cell_type": "markdown",
   "metadata": {},
   "source": [
    "## *Andrew Leung - Sunday October 27, 2019*"
   ]
  },
  {
   "cell_type": "markdown",
   "metadata": {},
   "source": [
    "## Task 1: Data Cleaning and Descriptive statistics"
   ]
  },
  {
   "cell_type": "markdown",
   "metadata": {},
   "source": [
    "In this first section I explored the fire set to look at how each recorded is filled in, are there nulls and inappropriate values. In addition, I explore whether variables should be grouped up and if derived variables need to be created to produce deeper insights into the data. This section contains the code and results for the exploratory analysis, data cleaning, preparations, summary descripives and visualizations for the fire incidents dataset."
   ]
  },
  {
   "cell_type": "code",
   "execution_count": 1,
   "metadata": {
    "ExecuteTime": {
     "end_time": "2019-10-27T04:54:40.905238Z",
     "start_time": "2019-10-27T04:54:40.901242Z"
    }
   },
   "outputs": [],
   "source": [
    "#improt packages\n",
    "import pandas as pd\n",
    "import seaborn as sns\n",
    "from datetime import datetime\n",
    "import matplotlib.pyplot as plt\n",
    "import statsmodels.api as sm\n",
    "import statsmodels.formula.api as smf\n",
    "import numpy as np\n",
    "import re\n",
    "import calendar"
   ]
  },
  {
   "cell_type": "code",
   "execution_count": 2,
   "metadata": {
    "ExecuteTime": {
     "end_time": "2019-10-27T04:44:19.076796Z",
     "start_time": "2019-10-27T04:44:15.675536Z"
    }
   },
   "outputs": [
    {
     "name": "stderr",
     "output_type": "stream",
     "text": [
      "C:\\ProgramData\\Anaconda3\\lib\\site-packages\\IPython\\core\\interactiveshell.py:3058: DtypeWarning: Columns (11,12,19,37,44,45,54,58) have mixed types. Specify dtype option on import or set low_memory=False.\n",
      "  interactivity=interactivity, compiler=compiler, result=result)\n"
     ]
    }
   ],
   "source": [
    "#load file - fire incidents\n",
    "fire = pd.read_csv(\"Fire_Incidents.csv\")"
   ]
  },
  {
   "cell_type": "markdown",
   "metadata": {},
   "source": [
    "Using the .info() function, we take a look at the fields in the dataset and their field types."
   ]
  },
  {
   "cell_type": "code",
   "execution_count": 3,
   "metadata": {
    "ExecuteTime": {
     "end_time": "2019-10-27T04:44:19.799094Z",
     "start_time": "2019-10-27T04:44:19.077796Z"
    },
    "scrolled": false
   },
   "outputs": [
    {
     "name": "stdout",
     "output_type": "stream",
     "text": [
      "<class 'pandas.core.frame.DataFrame'>\n",
      "RangeIndex: 509740 entries, 0 to 509739\n",
      "Data columns (total 63 columns):\n",
      "Incident Number                                 509740 non-null int64\n",
      "Exposure Number                                 509740 non-null int64\n",
      "Address                                         509506 non-null object\n",
      "Incident Date                                   509740 non-null object\n",
      "Call Number                                     509740 non-null int64\n",
      "Alarm DtTm                                      509740 non-null object\n",
      "Arrival DtTm                                    509702 non-null object\n",
      "Close DtTm                                      509739 non-null object\n",
      "City                                            508156 non-null object\n",
      "Zipcode                                         436842 non-null float64\n",
      "Battalion                                       509740 non-null object\n",
      "Station Area                                    508931 non-null object\n",
      "Box                                             211909 non-null object\n",
      "Suppression Units                               509740 non-null int64\n",
      "Suppression Personnel                           509740 non-null int64\n",
      "EMS Units                                       509740 non-null int64\n",
      "EMS Personnel                                   509740 non-null int64\n",
      "Other Units                                     509740 non-null int64\n",
      "Other Personnel                                 509740 non-null int64\n",
      "First Unit On Scene                             329809 non-null object\n",
      "Estimated Property Loss                         128920 non-null float64\n",
      "Estimated Contents Loss                         136040 non-null float64\n",
      "Fire Fatalities                                 509740 non-null int64\n",
      "Fire Injuries                                   509740 non-null int64\n",
      "Civilian Fatalities                             509740 non-null int64\n",
      "Civilian Injuries                               509740 non-null int64\n",
      "Number of Alarms                                0 non-null float64\n",
      "Primary Situation                               509740 non-null object\n",
      "Mutual Aid                                      509740 non-null object\n",
      "Action Taken Primary                            509739 non-null object\n",
      "Action Taken Secondary                          349416 non-null object\n",
      "Action Taken Other                              337375 non-null object\n",
      "Detector Alerted Occupants                      342257 non-null object\n",
      "Property Use                                    509030 non-null object\n",
      "Area of Fire Origin                             30492 non-null object\n",
      "Ignition Cause                                  30489 non-null object\n",
      "Ignition Factor Primary                         30488 non-null object\n",
      "Ignition Factor Secondary                       24177 non-null object\n",
      "Heat Source                                     30491 non-null object\n",
      "Item First Ignited                              30489 non-null object\n",
      "Human Factors Associated with Ignition          30478 non-null object\n",
      "Structure Type                                  11443 non-null object\n",
      "Structure Status                                11316 non-null object\n",
      "Floor of Fire Origin                            8287 non-null float64\n",
      "Fire Spread                                     9597 non-null object\n",
      "No Flame Spead                                  178940 non-null object\n",
      "Number of floors with minimum damage            6617 non-null float64\n",
      "Number of floors with significant damage        6607 non-null float64\n",
      "Number of floors with heavy damage              6597 non-null float64\n",
      "Number of floors with extreme damage            6596 non-null float64\n",
      "Detectors Present                               11309 non-null object\n",
      "Detector Type                                   10521 non-null object\n",
      "Detector Operation                              10521 non-null object\n",
      "Detector Effectiveness                          10226 non-null object\n",
      "Detector Failure Reason                         9630 non-null object\n",
      "Automatic Extinguishing System Present          11351 non-null object\n",
      "Automatic Extinguishing Sytem Type              10014 non-null object\n",
      "Automatic Extinguishing Sytem Perfomance        10014 non-null object\n",
      "Automatic Extinguishing Sytem Failure Reason    9606 non-null object\n",
      "Number of Sprinkler Heads Operating             6759 non-null float64\n",
      "Supervisor District                             436821 non-null float64\n",
      "Neighborhood  District                          436692 non-null object\n",
      "Location                                        445977 non-null object\n",
      "dtypes: float64(11), int64(13), object(39)\n",
      "memory usage: 245.0+ MB\n"
     ]
    }
   ],
   "source": [
    "fire.info()"
   ]
  },
  {
   "cell_type": "markdown",
   "metadata": {},
   "source": [
    "After examining the datatset, I determined that the padding \"O\" from the csv is not preserved, so I re-padded the Incident Number column"
   ]
  },
  {
   "cell_type": "code",
   "execution_count": 4,
   "metadata": {
    "ExecuteTime": {
     "end_time": "2019-10-27T04:44:21.413226Z",
     "start_time": "2019-10-27T04:44:19.801093Z"
    }
   },
   "outputs": [],
   "source": [
    "#pad Incident Number - restore Incident Number\n",
    "fire[\"Incident Number\"] = fire[\"Incident Number\"].astype(str)\n",
    "\n",
    "fire.loc[fire[\"Incident Number\"].str.len()==7,: \"Incident Number\"] = fire.loc[fire[\"Incident Number\"].str.len()==7,: \"Incident Number\"].apply(lambda x: x.str.zfill(8))\n",
    "\n",
    "fire.loc[fire[\"Incident Number\"].str.len()==7].shape\n",
    "\n",
    "fire[\"Incident Number\"] = fire[\"Incident Number\"].astype(int)"
   ]
  },
  {
   "cell_type": "markdown",
   "metadata": {},
   "source": [
    "Further examination of the fields led me to changing the Incident Date, Alarm DtTm, Arrival and Close fields to date time objects in order to derive insights about response times by the fire deparment. These also enabled the creation of a numerical month column, day of month column and day of week columns. These maybe useful as predictors later on."
   ]
  },
  {
   "cell_type": "code",
   "execution_count": 5,
   "metadata": {
    "ExecuteTime": {
     "end_time": "2019-10-27T04:44:23.394041Z",
     "start_time": "2019-10-27T04:44:21.414216Z"
    }
   },
   "outputs": [],
   "source": [
    "fire[\"date_clean\"] = pd.to_datetime(fire[\"Incident Date\"], format=\"%m/%d/%Y\")\n",
    "fire['month'] = fire['date_clean'].apply(lambda x: x.month)\n",
    "\n",
    "fire['Month2'] = fire['month'].apply(lambda x: calendar.month_abbr[x])\n",
    "fire[\"day\"]= fire['date_clean'].apply(lambda x: x.day)\n",
    "\n",
    "fire[\"dow_num\"] = fire[\"date_clean\"].dt.dayofweek\n",
    "fire[\"dow_cat\"]= fire[\"date_clean\"].dt.day_name()\n",
    "\n",
    "fire[\"Alarm DtTm\"] = pd.to_datetime(fire[\"Alarm DtTm\"])\n",
    "fire[\"Arrival DtTm\"] = pd.to_datetime(fire[\"Arrival DtTm\"])\n",
    "fire[\"Close DtTm\"] = pd.to_datetime(fire[\"Close DtTm\"])\n",
    "\n",
    "fire[\"arrival_lag\"] = fire[\"Arrival DtTm\"] - fire[\"Alarm DtTm\"]\n",
    "fire[\"arrival_lag\"] = fire[\"arrival_lag\"].apply(lambda x: x.total_seconds())\n",
    "\n",
    "fire[\"duration\"] = fire[\"Close DtTm\"] - fire[\"Arrival DtTm\"]\n",
    "fire[\"duration\"] = fire[\"duration\"].apply(lambda x: x.total_seconds())\n",
    "\n",
    "\n"
   ]
  },
  {
   "cell_type": "code",
   "execution_count": 6,
   "metadata": {
    "ExecuteTime": {
     "end_time": "2019-10-27T04:47:26.591461Z",
     "start_time": "2019-10-27T04:47:26.216314Z"
    }
   },
   "outputs": [
    {
     "data": {
      "text/html": [
       "<div>\n",
       "<style scoped>\n",
       "    .dataframe tbody tr th:only-of-type {\n",
       "        vertical-align: middle;\n",
       "    }\n",
       "\n",
       "    .dataframe tbody tr th {\n",
       "        vertical-align: top;\n",
       "    }\n",
       "\n",
       "    .dataframe thead th {\n",
       "        text-align: right;\n",
       "    }\n",
       "</style>\n",
       "<table border=\"1\" class=\"dataframe\">\n",
       "  <thead>\n",
       "    <tr style=\"text-align: right;\">\n",
       "      <th></th>\n",
       "      <th>duration</th>\n",
       "      <th>arrival_lag</th>\n",
       "    </tr>\n",
       "  </thead>\n",
       "  <tbody>\n",
       "    <tr>\n",
       "      <th>sum</th>\n",
       "      <td>5.756946e+08</td>\n",
       "      <td>1.622361e+08</td>\n",
       "    </tr>\n",
       "    <tr>\n",
       "      <th>min</th>\n",
       "      <td>0.000000e+00</td>\n",
       "      <td>-6.052500e+04</td>\n",
       "    </tr>\n",
       "    <tr>\n",
       "      <th>max</th>\n",
       "      <td>2.937651e+06</td>\n",
       "      <td>8.642240e+05</td>\n",
       "    </tr>\n",
       "    <tr>\n",
       "      <th>mean</th>\n",
       "      <td>1.129475e+03</td>\n",
       "      <td>3.182960e+02</td>\n",
       "    </tr>\n",
       "  </tbody>\n",
       "</table>\n",
       "</div>"
      ],
      "text/plain": [
       "          duration   arrival_lag\n",
       "sum   5.756946e+08  1.622361e+08\n",
       "min   0.000000e+00 -6.052500e+04\n",
       "max   2.937651e+06  8.642240e+05\n",
       "mean  1.129475e+03  3.182960e+02"
      ]
     },
     "execution_count": 6,
     "metadata": {},
     "output_type": "execute_result"
    }
   ],
   "source": [
    "fire.loc[:,[\"duration\", \"arrival_lag\"]].aggregate(['sum', 'min', 'max','mean'])"
   ]
  },
  {
   "cell_type": "markdown",
   "metadata": {},
   "source": [
    "Next, Neighborhood Districts was examined. Since it was a categorical variable, we can do a group up and see which neighbourhoods had the most and least amount of incidents."
   ]
  },
  {
   "cell_type": "code",
   "execution_count": 7,
   "metadata": {
    "ExecuteTime": {
     "end_time": "2019-10-27T04:47:26.762291Z",
     "start_time": "2019-10-27T04:47:26.620433Z"
    }
   },
   "outputs": [
    {
     "data": {
      "text/plain": [
       "Tenderloin                        44019\n",
       "Financial District/South Beach    40321\n",
       "Mission                           40019\n",
       "South of Market                   36265\n",
       "Bayview Hunters Point             19563\n",
       "Western Addition                  19056\n",
       "Nob Hill                          16712\n",
       "Pacific Heights                   13131\n",
       "Sunset/Parkside                   12709\n",
       "Hayes Valley                      12131\n",
       "Castro/Upper Market               12067\n",
       "Chinatown                         12018\n",
       "Marina                            11532\n",
       "North Beach                        9860\n",
       "Potrero Hill                       9780\n",
       "Outer Richmond                     8599\n",
       "Russian Hill                       8469\n",
       "West of Twin Peaks                 8339\n",
       "Bernal Heights                     8223\n",
       "Lakeshore                          7785\n",
       "Haight Ashbury                     7219\n",
       "Inner Sunset                       6884\n",
       "Mission Bay                        6804\n",
       "Excelsior                          6673\n",
       "Outer Mission                      6476\n",
       "Noe Valley                         5979\n",
       "Oceanview/Merced/Ingleside         5642\n",
       "Lone Mountain/USF                  5640\n",
       "Inner Richmond                     5059\n",
       "Presidio Heights                   4356\n",
       "Golden Gate Park                   4214\n",
       "Portola                            3932\n",
       "Visitacion Valley                  3574\n",
       "Japantown                          3039\n",
       "Glen Park                          2452\n",
       "Twin Peaks                         2451\n",
       "Presidio                           2280\n",
       "Treasure Island                    1250\n",
       "McLaren Park                        894\n",
       "Seacliff                            664\n",
       "Lincoln Park                        612\n",
       "Name: Neighborhood  District, dtype: int64"
      ]
     },
     "execution_count": 7,
     "metadata": {},
     "output_type": "execute_result"
    }
   ],
   "source": [
    "#min_max\n",
    "fire[\"Neighborhood  District\"].value_counts()"
   ]
  },
  {
   "cell_type": "markdown",
   "metadata": {},
   "source": [
    "In order to determine which incidents had an acutal fire, the \"Primary Situation\" field was parsed to find the string \"fire\". I also parsed the action numbers column which showed corresponding actions for each incident. I realized that the Primary Situation field could contain key words like \"false alarm, no fire\", leading to a miscount of incidents with actual fires. Therefore, I realized that parsing the Action Taken Primary field and code \"11\" for extinguish was a more accurate way to count incidents where fires actually ocurred.\n",
    "\n",
    "A \"fire\" column was created with \"1\" indicating a fire occurred and \"0\" indicating a fire did not occur."
   ]
  },
  {
   "cell_type": "code",
   "execution_count": 8,
   "metadata": {
    "ExecuteTime": {
     "end_time": "2019-10-27T04:47:27.146683Z",
     "start_time": "2019-10-27T04:47:26.764289Z"
    }
   },
   "outputs": [
    {
     "data": {
      "text/plain": [
       "False    399669\n",
       "True     110071\n",
       "Name: Primary Situation, dtype: int64"
      ]
     },
     "execution_count": 8,
     "metadata": {},
     "output_type": "execute_result"
    }
   ],
   "source": [
    "#of fires\n",
    "fire[\"Primary Situation\"].str.contains(\"fire\").value_counts()"
   ]
  },
  {
   "cell_type": "code",
   "execution_count": 9,
   "metadata": {
    "ExecuteTime": {
     "end_time": "2019-10-27T04:47:27.938359Z",
     "start_time": "2019-10-27T04:47:27.147665Z"
    }
   },
   "outputs": [],
   "source": [
    "fire[\"action_number\"] = fire[\"Action Taken Primary\"].str.extract('^(\\d{1,2})')"
   ]
  },
  {
   "cell_type": "code",
   "execution_count": 10,
   "metadata": {
    "ExecuteTime": {
     "end_time": "2019-10-27T04:47:28.006287Z",
     "start_time": "2019-10-27T04:47:27.939356Z"
    }
   },
   "outputs": [
    {
     "data": {
      "text/html": [
       "<div>\n",
       "<style scoped>\n",
       "    .dataframe tbody tr th:only-of-type {\n",
       "        vertical-align: middle;\n",
       "    }\n",
       "\n",
       "    .dataframe tbody tr th {\n",
       "        vertical-align: top;\n",
       "    }\n",
       "\n",
       "    .dataframe thead th {\n",
       "        text-align: right;\n",
       "    }\n",
       "</style>\n",
       "<table border=\"1\" class=\"dataframe\">\n",
       "  <thead>\n",
       "    <tr style=\"text-align: right;\">\n",
       "      <th></th>\n",
       "      <th>index</th>\n",
       "      <th>action_number</th>\n",
       "    </tr>\n",
       "  </thead>\n",
       "  <tbody>\n",
       "    <tr>\n",
       "      <th>0</th>\n",
       "      <td>86</td>\n",
       "      <td>287546</td>\n",
       "    </tr>\n",
       "    <tr>\n",
       "      <th>1</th>\n",
       "      <td>63</td>\n",
       "      <td>28378</td>\n",
       "    </tr>\n",
       "    <tr>\n",
       "      <th>2</th>\n",
       "      <td>11</td>\n",
       "      <td>26965</td>\n",
       "    </tr>\n",
       "    <tr>\n",
       "      <th>3</th>\n",
       "      <td>00</td>\n",
       "      <td>22474</td>\n",
       "    </tr>\n",
       "    <tr>\n",
       "      <th>4</th>\n",
       "      <td>70</td>\n",
       "      <td>15036</td>\n",
       "    </tr>\n",
       "    <tr>\n",
       "      <th>...</th>\n",
       "      <td>...</td>\n",
       "      <td>...</td>\n",
       "    </tr>\n",
       "    <tr>\n",
       "      <th>62</th>\n",
       "      <td>15</td>\n",
       "      <td>9</td>\n",
       "    </tr>\n",
       "    <tr>\n",
       "      <th>63</th>\n",
       "      <td>13</td>\n",
       "      <td>7</td>\n",
       "    </tr>\n",
       "    <tr>\n",
       "      <th>64</th>\n",
       "      <td>91</td>\n",
       "      <td>5</td>\n",
       "    </tr>\n",
       "    <tr>\n",
       "      <th>65</th>\n",
       "      <td>1</td>\n",
       "      <td>2</td>\n",
       "    </tr>\n",
       "    <tr>\n",
       "      <th>66</th>\n",
       "      <td>8</td>\n",
       "      <td>2</td>\n",
       "    </tr>\n",
       "  </tbody>\n",
       "</table>\n",
       "<p>67 rows × 2 columns</p>\n",
       "</div>"
      ],
      "text/plain": [
       "   index  action_number\n",
       "0     86         287546\n",
       "1     63          28378\n",
       "2     11          26965\n",
       "3     00          22474\n",
       "4     70          15036\n",
       "..   ...            ...\n",
       "62    15              9\n",
       "63    13              7\n",
       "64    91              5\n",
       "65     1              2\n",
       "66     8              2\n",
       "\n",
       "[67 rows x 2 columns]"
      ]
     },
     "execution_count": 10,
     "metadata": {},
     "output_type": "execute_result"
    }
   ],
   "source": [
    "#top 3 actions\n",
    "pd.DataFrame(fire[\"action_number\"].value_counts()).reset_index()\n",
    "\n",
    "# 86: investigate, 63: restore fire alarm, 11: extinguish"
   ]
  },
  {
   "cell_type": "code",
   "execution_count": 11,
   "metadata": {
    "ExecuteTime": {
     "end_time": "2019-10-27T05:11:54.505788Z",
     "start_time": "2019-10-27T05:11:54.364428Z"
    }
   },
   "outputs": [],
   "source": [
    "#create fire dependent variable\n",
    "fire.loc[fire['action_number'] == '11', 'fire'] = 1 \n",
    "fire.loc[fire['action_number'] != '11', 'fire'] = 0 "
   ]
  },
  {
   "cell_type": "code",
   "execution_count": 12,
   "metadata": {
    "ExecuteTime": {
     "end_time": "2019-10-27T05:29:05.030248Z",
     "start_time": "2019-10-27T05:29:05.014277Z"
    }
   },
   "outputs": [
    {
     "data": {
      "text/plain": [
       "0.0    482775\n",
       "1.0     26965\n",
       "Name: fire, dtype: int64"
      ]
     },
     "execution_count": 12,
     "metadata": {},
     "output_type": "execute_result"
    }
   ],
   "source": [
    "#total number of actual fire occurances\n",
    "fire[\"fire\"].value_counts()"
   ]
  },
  {
   "cell_type": "markdown",
   "metadata": {},
   "source": [
    "I examined the Exposure Number field to see if multiple houses were commonly involved with incidents. However, the vast number of \"0\" values incidates that most incidents are not multi-building instances."
   ]
  },
  {
   "cell_type": "code",
   "execution_count": 13,
   "metadata": {
    "ExecuteTime": {
     "end_time": "2019-10-27T04:47:28.410209Z",
     "start_time": "2019-10-27T04:47:28.007296Z"
    }
   },
   "outputs": [
    {
     "data": {
      "text/plain": [
       "(14157, 73)"
      ]
     },
     "execution_count": 13,
     "metadata": {},
     "output_type": "execute_result"
    }
   ],
   "source": [
    "fire.loc[(fire[\"action_number\"]=='11') & (fire[\"Area of Fire Origin\"].isnull()==True),:].shape"
   ]
  },
  {
   "cell_type": "code",
   "execution_count": 14,
   "metadata": {
    "ExecuteTime": {
     "end_time": "2019-10-27T04:47:28.496149Z",
     "start_time": "2019-10-27T04:47:28.411192Z"
    },
    "scrolled": true
   },
   "outputs": [
    {
     "data": {
      "text/plain": [
       "Neighborhood  District          action_number\n",
       "Bayview Hunters Point           11               0\n",
       "Bernal Heights                  11               0\n",
       "Castro/Upper Market             11               0\n",
       "Chinatown                       11               0\n",
       "Excelsior                       11               0\n",
       "Financial District/South Beach  11               0\n",
       "Glen Park                       11               0\n",
       "Golden Gate Park                11               0\n",
       "Haight Ashbury                  11               0\n",
       "Hayes Valley                    11               1\n",
       "Inner Richmond                  11               0\n",
       "Inner Sunset                    11               0\n",
       "Japantown                       11               0\n",
       "Lakeshore                       11               0\n",
       "Lincoln Park                    11               0\n",
       "Lone Mountain/USF               11               1\n",
       "Marina                          11               0\n",
       "McLaren Park                    11               0\n",
       "Mission                         11               0\n",
       "Mission Bay                     11               0\n",
       "Nob Hill                        11               0\n",
       "Noe Valley                      11               0\n",
       "North Beach                     11               0\n",
       "Oceanview/Merced/Ingleside      11               0\n",
       "Outer Mission                   11               0\n",
       "Outer Richmond                  11               0\n",
       "Pacific Heights                 11               1\n",
       "Portola                         11               0\n",
       "Potrero Hill                    11               0\n",
       "Presidio                        11               0\n",
       "Presidio Heights                11               5\n",
       "Russian Hill                    11               0\n",
       "Seacliff                        11               0\n",
       "South of Market                 11               1\n",
       "Sunset/Parkside                 11               4\n",
       "Tenderloin                      11               1\n",
       "Treasure Island                 11               0\n",
       "Twin Peaks                      11               1\n",
       "Visitacion Valley               11               1\n",
       "West of Twin Peaks              11               0\n",
       "Western Addition                11               2\n",
       "Name: Exposure Number, dtype: int64"
      ]
     },
     "execution_count": 14,
     "metadata": {},
     "output_type": "execute_result"
    }
   ],
   "source": [
    "fire.loc[(fire[\"action_number\"]=='11')].groupby([\"Neighborhood  District\",\"action_number\"])[\"Exposure Number\"].sum()"
   ]
  },
  {
   "cell_type": "code",
   "execution_count": 15,
   "metadata": {
    "ExecuteTime": {
     "end_time": "2019-10-27T04:47:28.543114Z",
     "start_time": "2019-10-27T04:47:28.497127Z"
    }
   },
   "outputs": [
    {
     "data": {
      "text/plain": [
       "0    509720\n",
       "1        19\n",
       "5         1\n",
       "Name: Exposure Number, dtype: int64"
      ]
     },
     "execution_count": 15,
     "metadata": {},
     "output_type": "execute_result"
    }
   ],
   "source": [
    "fire[\"Exposure Number\"].value_counts()"
   ]
  },
  {
   "cell_type": "markdown",
   "metadata": {},
   "source": [
    "The next I examined the City field for a possible dependent variable field for prediction of fire locations. It was observed that there were a mix of abbreviations and different spellings of the same city, so the names were cleaned and spaces were removed."
   ]
  },
  {
   "cell_type": "code",
   "execution_count": 16,
   "metadata": {
    "ExecuteTime": {
     "end_time": "2019-10-27T04:47:28.767902Z",
     "start_time": "2019-10-27T04:47:28.544113Z"
    },
    "scrolled": false
   },
   "outputs": [
    {
     "data": {
      "text/plain": [
       "SF                 326345\n",
       "San Francisco      166337\n",
       "SFO                  7254\n",
       "SAN FRANCISCO        3081\n",
       "Presidio             1296\n",
       "TI                   1139\n",
       "PR                    819\n",
       "Treasure Isla         564\n",
       "Fort Mason            229\n",
       "Yerba Buena           177\n",
       "Hunters Point         172\n",
       "YB                    156\n",
       "DC                    139\n",
       "FM                    136\n",
       "HP                    129\n",
       "Daly City              48\n",
       "BN                     45\n",
       "PRESIDIO               36\n",
       "OAK                    24\n",
       "Brisbane               10\n",
       "Treasure Island         8\n",
       "TREASURE ISLAND         6\n",
       "AI                      3\n",
       "FORT MASON              3\n",
       "Name: City, dtype: int64"
      ]
     },
     "execution_count": 16,
     "metadata": {},
     "output_type": "execute_result"
    }
   ],
   "source": [
    "fire[\"City\"].value_counts()"
   ]
  },
  {
   "cell_type": "code",
   "execution_count": 18,
   "metadata": {
    "ExecuteTime": {
     "end_time": "2019-10-27T04:47:28.967915Z",
     "start_time": "2019-10-27T04:47:28.768901Z"
    }
   },
   "outputs": [],
   "source": [
    "#clean names\n",
    "fire[\"City\"].replace(['SF','SFO','SAN FRANCISCO'],\"San Francisco\", inplace=True)\n",
    "fire[\"City\"].replace(['FORT MASON',\"FM\"],\"Fort Mason\", inplace=True)\n",
    "fire[\"City\"].replace(['TREASURE ISLAND','Treasure Isla','TI'],\"Treasure Island\", inplace=True)\n",
    "fire[\"City\"].replace(['YB'],\"Yerba Buena\", inplace=True)\n",
    "fire[\"City\"].replace(['DC'],\"Daly City\", inplace=True)\n",
    "fire[\"City\"].replace(['HP'],\"Hunters Point\", inplace=True)\n",
    "fire[\"City\"].replace(['PRESIDIO','PR'],\"Presidio\", inplace=True)\n",
    "fire[\"City\"].replace(['BN'],\"Brisbane\", inplace=True)\n",
    "fire[\"City\"] = fire[\"City\"].astype(str)\n",
    "#replace spaces\n",
    "fire[\"City\"] = fire[\"City\"].apply(lambda x: re.sub(\"\\s\",\"_\",x))\n"
   ]
  },
  {
   "cell_type": "code",
   "execution_count": 19,
   "metadata": {
    "ExecuteTime": {
     "end_time": "2019-10-27T04:47:29.016602Z",
     "start_time": "2019-10-27T04:47:28.968896Z"
    }
   },
   "outputs": [
    {
     "data": {
      "text/plain": [
       "San_Francisco      503017\n",
       "Presidio             2151\n",
       "Treasure_Island      1717\n",
       "nan                  1584\n",
       "Fort_Mason            368\n",
       "Yerba_Buena           333\n",
       "Hunters_Point         301\n",
       "Daly_City             187\n",
       "Brisbane               55\n",
       "OAK                    24\n",
       "AI                      3\n",
       "Name: City, dtype: int64"
      ]
     },
     "execution_count": 19,
     "metadata": {},
     "output_type": "execute_result"
    }
   ],
   "source": [
    "# check values again\n",
    "fire[\"City\"].value_counts()"
   ]
  },
  {
   "cell_type": "markdown",
   "metadata": {},
   "source": [
    "A final modification was also made to clean the columns Structure Type and Structure Status. These columns were changed to categorical columns based on the 1-digit code found in each column. "
   ]
  },
  {
   "cell_type": "code",
   "execution_count": 20,
   "metadata": {},
   "outputs": [],
   "source": [
    "fire[\"stype\"] = fire[\"Structure Type\"].str.extract('^(\\d{1})')\n",
    "fire.loc[fire[\"stype\"].isna(),\"stype\"]= '0'\n",
    "\n",
    "fire[\"s_status\"]=fire[\"Structure Status\"].str.extract('^(\\d{1})')\n",
    "fire.loc[fire[\"s_status\"].isna(),\"s_status\"]= '0'"
   ]
  },
  {
   "cell_type": "markdown",
   "metadata": {},
   "source": [
    "## Task 1: Plots for Exploratory - Univariate, Bivariate and Multivariate Plots"
   ]
  },
  {
   "cell_type": "markdown",
   "metadata": {},
   "source": [
    "In this next section, plots were used a primary tool as many of the variables in the dataset are categorical. These plots and crosstabs aimed to drive insights into possible predictors for actual fire occurances and where fires would occur."
   ]
  },
  {
   "cell_type": "markdown",
   "metadata": {},
   "source": [
    "One continuous variable was examined in \"Suppression Units\", however, the histogram shows that the majority of values are 0 with really small counts of other values. This variable did not suggest itself to be a good predictor of fires."
   ]
  },
  {
   "cell_type": "code",
   "execution_count": 21,
   "metadata": {
    "ExecuteTime": {
     "end_time": "2019-10-27T04:47:29.465461Z",
     "start_time": "2019-10-27T04:47:29.017573Z"
    }
   },
   "outputs": [
    {
     "data": {
      "text/plain": [
       "<matplotlib.axes._subplots.AxesSubplot at 0x20a2ffd9d30>"
      ]
     },
     "execution_count": 21,
     "metadata": {},
     "output_type": "execute_result"
    },
    {
     "data": {
      "image/png": "[encoded data removed]",
      "text/plain": [
       "<Figure size 432x288 with 1 Axes>"
      ]
     },
     "metadata": {
      "needs_background": "light"
     },
     "output_type": "display_data"
    }
   ],
   "source": [
    "sns.distplot(fire[\"Suppression Units\"])"
   ]
  },
  {
   "cell_type": "markdown",
   "metadata": {},
   "source": [
    "The histogram of \"City\" showed that there City maybe a useful predictor for fire incidents as there seems to be a good deal of variablity. It was also observed that the San Francisco label was used for the majority of incidents, while these other city values are not necessarily cities, but districts in San Francisco. Therefore, the San Francisco label was removed from the histogram as it did not add any value. For the future, the neighbourhood filed and city fields should be reconciled and more clearly delineated."
   ]
  },
  {
   "cell_type": "code",
   "execution_count": 22,
   "metadata": {
    "ExecuteTime": {
     "end_time": "2019-10-27T05:05:09.140398Z",
     "start_time": "2019-10-27T05:05:08.847701Z"
    }
   },
   "outputs": [
    {
     "data": {
      "text/plain": [
       "<matplotlib.axes._subplots.AxesSubplot at 0x20a16a39e48>"
      ]
     },
     "execution_count": 22,
     "metadata": {},
     "output_type": "execute_result"
    },
    {
     "data": {
      "image/png": "[encoded data removed]",
      "text/plain": [
       "<Figure size 1080x1440 with 1 Axes>"
      ]
     },
     "metadata": {
      "needs_background": "light"
     },
     "output_type": "display_data"
    }
   ],
   "source": [
    "plt.figure(figsize = (15,20))\n",
    "sns.countplot(fire.loc[fire[\"City\"]!='San Francisco',\"City\"])"
   ]
  },
  {
   "cell_type": "markdown",
   "metadata": {},
   "source": [
    "Here, we see the proportion of real fire occurances to non-fire occurances by City. These proportions indicate again that City should be a useful predictor column."
   ]
  },
  {
   "cell_type": "code",
   "execution_count": 23,
   "metadata": {
    "ExecuteTime": {
     "end_time": "2019-10-27T05:22:02.116677Z",
     "start_time": "2019-10-27T05:22:01.870906Z"
    }
   },
   "outputs": [
    {
     "data": {
      "text/plain": [
       "<matplotlib.axes._subplots.AxesSubplot at 0x20a1719a550>"
      ]
     },
     "execution_count": 23,
     "metadata": {},
     "output_type": "execute_result"
    },
    {
     "data": {
      "image/png": "[encoded data removed]",
      "text/plain": [
       "<Figure size 432x288 with 1 Axes>"
      ]
     },
     "metadata": {
      "needs_background": "light"
     },
     "output_type": "display_data"
    }
   ],
   "source": [
    "t = pd.crosstab(fire.loc[fire[\"City\"]!='San Francisco',\"City\"],fire[\"fire\"])\n",
    "t.div(t.sum(1).astype(float), axis=0).plot(kind='bar', stacked=True)"
   ]
  },
  {
   "cell_type": "markdown",
   "metadata": {},
   "source": [
    "A plot of fire incidents by month by actual fire occurance shows that month may be helpful predictor of real fire incidents. The orange bars indicate the counts of actual fires at incidents in the given month."
   ]
  },
  {
   "cell_type": "code",
   "execution_count": 24,
   "metadata": {
    "ExecuteTime": {
     "end_time": "2019-10-27T05:32:13.876002Z",
     "start_time": "2019-10-27T05:32:13.443405Z"
    }
   },
   "outputs": [
    {
     "data": {
      "text/plain": [
       "<matplotlib.axes._subplots.AxesSubplot at 0x20a17612a90>"
      ]
     },
     "execution_count": 24,
     "metadata": {},
     "output_type": "execute_result"
    },
    {
     "data": {
      "image/png": "[encoded data removed]",
      "text/plain": [
       "<Figure size 1080x1440 with 1 Axes>"
      ]
     },
     "metadata": {
      "needs_background": "light"
     },
     "output_type": "display_data"
    }
   ],
   "source": [
    "pd.crosstab(fire[\"month\"],fire[\"fire\"]).plot(kind='bar',figsize = (15,20))\n"
   ]
  },
  {
   "cell_type": "markdown",
   "metadata": {},
   "source": [
    "Similarly, a plot of fire incident counts by day of month by actual occurance of fire shows that day of month may be a helpful predictor."
   ]
  },
  {
   "cell_type": "code",
   "execution_count": 25,
   "metadata": {
    "ExecuteTime": {
     "end_time": "2019-10-27T05:32:24.589775Z",
     "start_time": "2019-10-27T05:32:24.003314Z"
    }
   },
   "outputs": [
    {
     "data": {
      "text/plain": [
       "<matplotlib.axes._subplots.AxesSubplot at 0x20a17493a58>"
      ]
     },
     "execution_count": 25,
     "metadata": {},
     "output_type": "execute_result"
    },
    {
     "data": {
      "image/png": "[encoded data removed]",
      "text/plain": [
       "<Figure size 1080x1440 with 1 Axes>"
      ]
     },
     "metadata": {
      "needs_background": "light"
     },
     "output_type": "display_data"
    }
   ],
   "source": [
    "pd.crosstab(fire[\"day\"],fire[\"fire\"]).plot(kind='bar',figsize = (15,20))"
   ]
  },
  {
   "cell_type": "markdown",
   "metadata": {},
   "source": [
    "Finally, count of fire incidents by day of week by actual fire occurances did not show enough variation to suggest that it would be a helpful predictor."
   ]
  },
  {
   "cell_type": "code",
   "execution_count": 26,
   "metadata": {
    "ExecuteTime": {
     "end_time": "2019-10-27T05:32:34.308955Z",
     "start_time": "2019-10-27T05:32:33.890393Z"
    }
   },
   "outputs": [
    {
     "data": {
      "text/plain": [
       "<matplotlib.axes._subplots.AxesSubplot at 0x20a19de8e10>"
      ]
     },
     "execution_count": 26,
     "metadata": {},
     "output_type": "execute_result"
    },
    {
     "data": {
      "image/png": "[encoded data removed]",
      "text/plain": [
       "<Figure size 1080x1440 with 1 Axes>"
      ]
     },
     "metadata": {
      "needs_background": "light"
     },
     "output_type": "display_data"
    }
   ],
   "source": [
    "pd.crosstab(fire[\"dow_cat\"],fire[\"fire\"]).plot(kind='bar',figsize = (15,20))"
   ]
  },
  {
   "cell_type": "markdown",
   "metadata": {},
   "source": [
    "For the next few boxplots, we look at the arrival_lag and duration variables, where arrival lag is the time it took to arrive the scene and duration is the time spend at the incident.\n",
    "\n",
    "From the first box plot, we see that average arrival times have a smaller IQR range indicating less variation. This means that arrival times to the fire incident scenes are more consistent around the mean and indicate good response times by the fire deparments.\n"
   ]
  },
  {
   "cell_type": "code",
   "execution_count": 27,
   "metadata": {
    "scrolled": false
   },
   "outputs": [
    {
     "data": {
      "text/plain": [
       "<matplotlib.axes._subplots.AxesSubplot at 0x20a1b3ecf98>"
      ]
     },
     "execution_count": 27,
     "metadata": {},
     "output_type": "execute_result"
    },
    {
     "data": {
      "image/png": "[encoded data removed]",
      "text/plain": [
       "<Figure size 720x1080 with 1 Axes>"
      ]
     },
     "metadata": {
      "needs_background": "light"
     },
     "output_type": "display_data"
    }
   ],
   "source": [
    "plt.figure(figsize = (10,15))\n",
    "sns.boxplot(data=fire[[\"arrival_lag\",\"duration\"]], showfliers=False)"
   ]
  },
  {
   "cell_type": "markdown",
   "metadata": {},
   "source": [
    "In the second plot of boxplots of arrival_lag by city by actual fire occurance, we see that arival times where a real fire has occured generally has a lower mean value than the mean arrival times for non-fire incidents. We also notice that for the cities AI and OAK there are no real fire incidents and arrival times are much greater in mean value and in range. This indicates that these two districts might actually be different cities (i.e. OAK = Oakland) and that responding to these regions requires significantly more time, perhaps due to the fact that they might not be the first fire deparment dispatched to that area. Brisbane and Hunters Point stand out as a city with higher overall mean values for arrival lag.\n"
   ]
  },
  {
   "cell_type": "code",
   "execution_count": 28,
   "metadata": {},
   "outputs": [
    {
     "data": {
      "text/plain": [
       "(array([ 0,  1,  2,  3,  4,  5,  6,  7,  8,  9, 10]),\n",
       " <a list of 11 Text xticklabel objects>)"
      ]
     },
     "execution_count": 28,
     "metadata": {},
     "output_type": "execute_result"
    },
    {
     "data": {
      "image/png": "[encoded data removed]",
      "text/plain": [
       "<Figure size 720x1440 with 1 Axes>"
      ]
     },
     "metadata": {
      "needs_background": "light"
     },
     "output_type": "display_data"
    }
   ],
   "source": [
    "plt.figure(figsize = (10,20))\n",
    "sns.boxplot(x= fire[\"City\"], y=fire[\"arrival_lag\"], hue=fire[\"fire\"], showfliers=False)\n",
    "plt.xticks(rotation=45)\n",
    "#g.set_xticklabels(g.get_xticklabels(),rotation=30)"
   ]
  },
  {
   "cell_type": "markdown",
   "metadata": {},
   "source": [
    "For the third plot of boxplots of duration by city by actual fire occurances, we see that incidents with real fires are far more time consuming with a much greater mean value than the mean value of duration for non-fire incidents. The large IQR also shows that incidents with real fires have much greater variation indicating how resource intensive real fire incidents are. Fort Mason stands out as having the highest mean duration for incidents where real fires occur."
   ]
  },
  {
   "cell_type": "code",
   "execution_count": 29,
   "metadata": {},
   "outputs": [
    {
     "data": {
      "text/plain": [
       "(array([ 0,  1,  2,  3,  4,  5,  6,  7,  8,  9, 10]),\n",
       " <a list of 11 Text xticklabel objects>)"
      ]
     },
     "execution_count": 29,
     "metadata": {},
     "output_type": "execute_result"
    },
    {
     "data": {
      "image/png": "[encoded data removed]",
      "text/plain": [
       "<Figure size 720x1440 with 1 Axes>"
      ]
     },
     "metadata": {
      "needs_background": "light"
     },
     "output_type": "display_data"
    }
   ],
   "source": [
    "plt.figure(figsize = (10,20))\n",
    "sns.boxplot(x= fire[\"City\"], y=fire[\"duration\"], hue=fire[\"fire\"], showfliers=False)\n",
    "plt.xticks(rotation=45)"
   ]
  },
  {
   "cell_type": "markdown",
   "metadata": {},
   "source": [
    "## Task 2:The relationship between fire incidents and police reports\n",
    "\n",
    "The data dictionaries for police incident reports 2018 to present and the data dictionary for the fire incidents were consulted to determine the relationship between the reports. It was determined that the field \"Call Number\" in the fire incidents dataset and the field \"CAD Number\" in the police report dataset both correspond to a unqiue 9 digit code issued by the Computer Aided Dispatch. This should be the common field between the two reports. However, when the two tables are joined together below, it was found that only 9 rows matched and the incidents do not seem to completely match.\n",
    "\n",
    "Another problem identified is that the \"CAD Number\" field was only added to the 2018 to present dataset for police reports _(seen in dataset change notice)_. For the historical years of 2003 to May 2018, there is no such field to link the two tables. More work needs to be done to see whether or not the two fields actually match and if other linking fields are available to help link the data.\n"
   ]
  },
  {
   "cell_type": "code",
   "execution_count": 30,
   "metadata": {},
   "outputs": [
    {
     "data": {
      "text/html": [
       "<div>\n",
       "<style scoped>\n",
       "    .dataframe tbody tr th:only-of-type {\n",
       "        vertical-align: middle;\n",
       "    }\n",
       "\n",
       "    .dataframe tbody tr th {\n",
       "        vertical-align: top;\n",
       "    }\n",
       "\n",
       "    .dataframe thead th {\n",
       "        text-align: right;\n",
       "    }\n",
       "</style>\n",
       "<table border=\"1\" class=\"dataframe\">\n",
       "  <thead>\n",
       "    <tr style=\"text-align: right;\">\n",
       "      <th></th>\n",
       "      <th>Incident Number_x</th>\n",
       "      <th>Exposure Number</th>\n",
       "      <th>Address</th>\n",
       "      <th>Incident Date_x</th>\n",
       "      <th>Call Number</th>\n",
       "      <th>Alarm DtTm</th>\n",
       "      <th>Arrival DtTm</th>\n",
       "      <th>Close DtTm</th>\n",
       "      <th>City</th>\n",
       "      <th>Zipcode</th>\n",
       "      <th>...</th>\n",
       "      <th>point</th>\n",
       "      <th>SF Find Neighborhoods</th>\n",
       "      <th>Current Police Districts</th>\n",
       "      <th>Current Supervisor Districts</th>\n",
       "      <th>Analysis Neighborhoods</th>\n",
       "      <th>HSOC Zones as of 2018-06-05</th>\n",
       "      <th>OWED Public Spaces</th>\n",
       "      <th>Central Market/Tenderloin Boundary Polygon - Updated</th>\n",
       "      <th>Parks Alliance CPSI (27+TL sites)</th>\n",
       "      <th>ESNCAG - Boundary File</th>\n",
       "    </tr>\n",
       "  </thead>\n",
       "  <tbody>\n",
       "    <tr>\n",
       "      <th>0</th>\n",
       "      <td>19085531</td>\n",
       "      <td>0</td>\n",
       "      <td>Post Street</td>\n",
       "      <td>07/20/2019</td>\n",
       "      <td>192011664</td>\n",
       "      <td>2019-07-20 12:41:32</td>\n",
       "      <td>2019-07-20 12:45:21</td>\n",
       "      <td>2019-07-20 13:08:07</td>\n",
       "      <td>San_Francisco</td>\n",
       "      <td>94102.0</td>\n",
       "      <td>...</td>\n",
       "      <td>POINT (-122.41169923333719 37.78787216759232)</td>\n",
       "      <td>50.0</td>\n",
       "      <td>6.0</td>\n",
       "      <td>3.0</td>\n",
       "      <td>21.0</td>\n",
       "      <td>NaN</td>\n",
       "      <td>NaN</td>\n",
       "      <td>NaN</td>\n",
       "      <td>NaN</td>\n",
       "      <td>NaN</td>\n",
       "    </tr>\n",
       "    <tr>\n",
       "      <th>1</th>\n",
       "      <td>18108108</td>\n",
       "      <td>0</td>\n",
       "      <td>Market</td>\n",
       "      <td>09/14/2018</td>\n",
       "      <td>182573333</td>\n",
       "      <td>2018-09-14 18:54:09</td>\n",
       "      <td>2018-09-14 18:59:47</td>\n",
       "      <td>2018-09-14 19:05:37</td>\n",
       "      <td>San_Francisco</td>\n",
       "      <td>94114.0</td>\n",
       "      <td>...</td>\n",
       "      <td>POINT (-122.472312257191 37.780655826818)</td>\n",
       "      <td>5.0</td>\n",
       "      <td>8.0</td>\n",
       "      <td>4.0</td>\n",
       "      <td>29.0</td>\n",
       "      <td>NaN</td>\n",
       "      <td>3.0</td>\n",
       "      <td>NaN</td>\n",
       "      <td>NaN</td>\n",
       "      <td>NaN</td>\n",
       "    </tr>\n",
       "    <tr>\n",
       "      <th>2</th>\n",
       "      <td>19091674</td>\n",
       "      <td>0</td>\n",
       "      <td>1217 Ralston Avenue</td>\n",
       "      <td>08/04/2019</td>\n",
       "      <td>192160530</td>\n",
       "      <td>2019-08-04 05:44:28</td>\n",
       "      <td>2019-08-04 05:53:57</td>\n",
       "      <td>2019-08-04 06:06:37</td>\n",
       "      <td>Presidio</td>\n",
       "      <td>94129.0</td>\n",
       "      <td>...</td>\n",
       "      <td>POINT (-122.41625970692009 37.78537597388642)</td>\n",
       "      <td>20.0</td>\n",
       "      <td>5.0</td>\n",
       "      <td>10.0</td>\n",
       "      <td>36.0</td>\n",
       "      <td>NaN</td>\n",
       "      <td>NaN</td>\n",
       "      <td>1.0</td>\n",
       "      <td>NaN</td>\n",
       "      <td>NaN</td>\n",
       "    </tr>\n",
       "    <tr>\n",
       "      <th>3</th>\n",
       "      <td>19057064</td>\n",
       "      <td>0</td>\n",
       "      <td>219 Ofarrell Street</td>\n",
       "      <td>05/14/2019</td>\n",
       "      <td>191343800</td>\n",
       "      <td>2019-05-14 21:36:38</td>\n",
       "      <td>2019-05-14 21:41:41</td>\n",
       "      <td>2019-05-14 21:50:41</td>\n",
       "      <td>San_Francisco</td>\n",
       "      <td>94102.0</td>\n",
       "      <td>...</td>\n",
       "      <td>POINT (-122.44598442613956 37.75235171503818)</td>\n",
       "      <td>51.0</td>\n",
       "      <td>7.0</td>\n",
       "      <td>5.0</td>\n",
       "      <td>38.0</td>\n",
       "      <td>NaN</td>\n",
       "      <td>NaN</td>\n",
       "      <td>NaN</td>\n",
       "      <td>NaN</td>\n",
       "      <td>NaN</td>\n",
       "    </tr>\n",
       "    <tr>\n",
       "      <th>4</th>\n",
       "      <td>19081888</td>\n",
       "      <td>0</td>\n",
       "      <td>1 280sb</td>\n",
       "      <td>07/11/2019</td>\n",
       "      <td>191922853</td>\n",
       "      <td>2019-07-11 16:06:12</td>\n",
       "      <td>2019-07-11 16:08:49</td>\n",
       "      <td>2019-07-11 17:19:45</td>\n",
       "      <td>San_Francisco</td>\n",
       "      <td>94107.0</td>\n",
       "      <td>...</td>\n",
       "      <td>POINT (-122.39651523718821 37.73715618359288)</td>\n",
       "      <td>87.0</td>\n",
       "      <td>2.0</td>\n",
       "      <td>9.0</td>\n",
       "      <td>1.0</td>\n",
       "      <td>NaN</td>\n",
       "      <td>NaN</td>\n",
       "      <td>NaN</td>\n",
       "      <td>NaN</td>\n",
       "      <td>NaN</td>\n",
       "    </tr>\n",
       "    <tr>\n",
       "      <th>5</th>\n",
       "      <td>18002368</td>\n",
       "      <td>0</td>\n",
       "      <td>0 Mission Street</td>\n",
       "      <td>01/06/2018</td>\n",
       "      <td>180060405</td>\n",
       "      <td>2018-01-06 03:27:45</td>\n",
       "      <td>2018-01-06 03:32:37</td>\n",
       "      <td>2018-01-06 03:32:50</td>\n",
       "      <td>San_Francisco</td>\n",
       "      <td>94103.0</td>\n",
       "      <td>...</td>\n",
       "      <td>POINT (-122.392661869673 37.766691459465)</td>\n",
       "      <td>34.0</td>\n",
       "      <td>1.0</td>\n",
       "      <td>10.0</td>\n",
       "      <td>4.0</td>\n",
       "      <td>NaN</td>\n",
       "      <td>NaN</td>\n",
       "      <td>NaN</td>\n",
       "      <td>NaN</td>\n",
       "      <td>NaN</td>\n",
       "    </tr>\n",
       "    <tr>\n",
       "      <th>6</th>\n",
       "      <td>18002368</td>\n",
       "      <td>0</td>\n",
       "      <td>0 Mission Street</td>\n",
       "      <td>01/06/2018</td>\n",
       "      <td>180060405</td>\n",
       "      <td>2018-01-06 03:27:45</td>\n",
       "      <td>2018-01-06 03:32:37</td>\n",
       "      <td>2018-01-06 03:32:50</td>\n",
       "      <td>San_Francisco</td>\n",
       "      <td>94103.0</td>\n",
       "      <td>...</td>\n",
       "      <td>POINT (-122.392661869673 37.766691459465)</td>\n",
       "      <td>34.0</td>\n",
       "      <td>1.0</td>\n",
       "      <td>10.0</td>\n",
       "      <td>4.0</td>\n",
       "      <td>NaN</td>\n",
       "      <td>NaN</td>\n",
       "      <td>NaN</td>\n",
       "      <td>NaN</td>\n",
       "      <td>NaN</td>\n",
       "    </tr>\n",
       "    <tr>\n",
       "      <th>7</th>\n",
       "      <td>18007734</td>\n",
       "      <td>0</td>\n",
       "      <td>0 Polk Street</td>\n",
       "      <td>01/18/2018</td>\n",
       "      <td>180182275</td>\n",
       "      <td>2018-01-18 14:49:38</td>\n",
       "      <td>2018-01-18 14:56:42</td>\n",
       "      <td>2018-01-18 15:01:29</td>\n",
       "      <td>San_Francisco</td>\n",
       "      <td>94103.0</td>\n",
       "      <td>...</td>\n",
       "      <td>POINT (-122.410951619088 37.784141011304)</td>\n",
       "      <td>20.0</td>\n",
       "      <td>5.0</td>\n",
       "      <td>10.0</td>\n",
       "      <td>36.0</td>\n",
       "      <td>NaN</td>\n",
       "      <td>NaN</td>\n",
       "      <td>1.0</td>\n",
       "      <td>NaN</td>\n",
       "      <td>NaN</td>\n",
       "    </tr>\n",
       "    <tr>\n",
       "      <th>8</th>\n",
       "      <td>18046645</td>\n",
       "      <td>0</td>\n",
       "      <td>Post</td>\n",
       "      <td>04/20/2018</td>\n",
       "      <td>181100852</td>\n",
       "      <td>2018-04-20 08:25:01</td>\n",
       "      <td>2018-04-20 08:26:41</td>\n",
       "      <td>2018-04-20 08:40:43</td>\n",
       "      <td>San_Francisco</td>\n",
       "      <td>94109.0</td>\n",
       "      <td>...</td>\n",
       "      <td>POINT (-122.397176878512 37.729909882568)</td>\n",
       "      <td>86.0</td>\n",
       "      <td>2.0</td>\n",
       "      <td>9.0</td>\n",
       "      <td>1.0</td>\n",
       "      <td>NaN</td>\n",
       "      <td>NaN</td>\n",
       "      <td>NaN</td>\n",
       "      <td>NaN</td>\n",
       "      <td>NaN</td>\n",
       "    </tr>\n",
       "  </tbody>\n",
       "</table>\n",
       "<p>9 rows × 110 columns</p>\n",
       "</div>"
      ],
      "text/plain": [
       "   Incident Number_x  Exposure Number              Address Incident Date_x  \\\n",
       "0           19085531                0          Post Street      07/20/2019   \n",
       "1           18108108                0               Market      09/14/2018   \n",
       "2           19091674                0  1217 Ralston Avenue      08/04/2019   \n",
       "3           19057064                0  219 Ofarrell Street      05/14/2019   \n",
       "4           19081888                0              1 280sb      07/11/2019   \n",
       "5           18002368                0     0 Mission Street      01/06/2018   \n",
       "6           18002368                0     0 Mission Street      01/06/2018   \n",
       "7           18007734                0        0 Polk Street      01/18/2018   \n",
       "8           18046645                0                 Post      04/20/2018   \n",
       "\n",
       "   Call Number          Alarm DtTm        Arrival DtTm          Close DtTm  \\\n",
       "0    192011664 2019-07-20 12:41:32 2019-07-20 12:45:21 2019-07-20 13:08:07   \n",
       "1    182573333 2018-09-14 18:54:09 2018-09-14 18:59:47 2018-09-14 19:05:37   \n",
       "2    192160530 2019-08-04 05:44:28 2019-08-04 05:53:57 2019-08-04 06:06:37   \n",
       "3    191343800 2019-05-14 21:36:38 2019-05-14 21:41:41 2019-05-14 21:50:41   \n",
       "4    191922853 2019-07-11 16:06:12 2019-07-11 16:08:49 2019-07-11 17:19:45   \n",
       "5    180060405 2018-01-06 03:27:45 2018-01-06 03:32:37 2018-01-06 03:32:50   \n",
       "6    180060405 2018-01-06 03:27:45 2018-01-06 03:32:37 2018-01-06 03:32:50   \n",
       "7    180182275 2018-01-18 14:49:38 2018-01-18 14:56:42 2018-01-18 15:01:29   \n",
       "8    181100852 2018-04-20 08:25:01 2018-04-20 08:26:41 2018-04-20 08:40:43   \n",
       "\n",
       "            City  Zipcode  ...                                          point  \\\n",
       "0  San_Francisco  94102.0  ...  POINT (-122.41169923333719 37.78787216759232)   \n",
       "1  San_Francisco  94114.0  ...      POINT (-122.472312257191 37.780655826818)   \n",
       "2       Presidio  94129.0  ...  POINT (-122.41625970692009 37.78537597388642)   \n",
       "3  San_Francisco  94102.0  ...  POINT (-122.44598442613956 37.75235171503818)   \n",
       "4  San_Francisco  94107.0  ...  POINT (-122.39651523718821 37.73715618359288)   \n",
       "5  San_Francisco  94103.0  ...      POINT (-122.392661869673 37.766691459465)   \n",
       "6  San_Francisco  94103.0  ...      POINT (-122.392661869673 37.766691459465)   \n",
       "7  San_Francisco  94103.0  ...      POINT (-122.410951619088 37.784141011304)   \n",
       "8  San_Francisco  94109.0  ...      POINT (-122.397176878512 37.729909882568)   \n",
       "\n",
       "  SF Find Neighborhoods Current Police Districts  \\\n",
       "0                  50.0                      6.0   \n",
       "1                   5.0                      8.0   \n",
       "2                  20.0                      5.0   \n",
       "3                  51.0                      7.0   \n",
       "4                  87.0                      2.0   \n",
       "5                  34.0                      1.0   \n",
       "6                  34.0                      1.0   \n",
       "7                  20.0                      5.0   \n",
       "8                  86.0                      2.0   \n",
       "\n",
       "   Current Supervisor Districts  Analysis Neighborhoods  \\\n",
       "0                           3.0                    21.0   \n",
       "1                           4.0                    29.0   \n",
       "2                          10.0                    36.0   \n",
       "3                           5.0                    38.0   \n",
       "4                           9.0                     1.0   \n",
       "5                          10.0                     4.0   \n",
       "6                          10.0                     4.0   \n",
       "7                          10.0                    36.0   \n",
       "8                           9.0                     1.0   \n",
       "\n",
       "   HSOC Zones as of 2018-06-05  OWED Public Spaces  \\\n",
       "0                          NaN                 NaN   \n",
       "1                          NaN                 3.0   \n",
       "2                          NaN                 NaN   \n",
       "3                          NaN                 NaN   \n",
       "4                          NaN                 NaN   \n",
       "5                          NaN                 NaN   \n",
       "6                          NaN                 NaN   \n",
       "7                          NaN                 NaN   \n",
       "8                          NaN                 NaN   \n",
       "\n",
       "   Central Market/Tenderloin Boundary Polygon - Updated  \\\n",
       "0                                                NaN      \n",
       "1                                                NaN      \n",
       "2                                                1.0      \n",
       "3                                                NaN      \n",
       "4                                                NaN      \n",
       "5                                                NaN      \n",
       "6                                                NaN      \n",
       "7                                                1.0      \n",
       "8                                                NaN      \n",
       "\n",
       "   Parks Alliance CPSI (27+TL sites) ESNCAG - Boundary File  \n",
       "0                                NaN                    NaN  \n",
       "1                                NaN                    NaN  \n",
       "2                                NaN                    NaN  \n",
       "3                                NaN                    NaN  \n",
       "4                                NaN                    NaN  \n",
       "5                                NaN                    NaN  \n",
       "6                                NaN                    NaN  \n",
       "7                                NaN                    NaN  \n",
       "8                                NaN                    NaN  \n",
       "\n",
       "[9 rows x 110 columns]"
      ]
     },
     "execution_count": 30,
     "metadata": {},
     "output_type": "execute_result"
    }
   ],
   "source": [
    "#load police data set\n",
    "pl = pd.read_csv(\"police.csv\")\n",
    "\n",
    "#join fire and police\n",
    "fire.merge(pl,\"inner\",left_on=\"Call Number\", right_on=\"CAD Number\")"
   ]
  },
  {
   "cell_type": "markdown",
   "metadata": {},
   "source": [
    "## Task 3a: Modelling for when fires will occur - Logit Model\n",
    "\n",
    "In the first section of Task 3, I calibrated a logit model to help predict when fires would occur. Since we have a \"fire\" field that has a binary indicator for actual fire occurance, this makes it condusive towards using a logit model, which predicts binary outcomes.\n",
    "\n",
    "Independent variables used are month, day, City, structure type and structure status. Month and day are used as a continuous variable since we can use them as ordinal variables. City, structure type and structure status are categorical variables, so they are converted to dummy variables with on category dropped as the base variable.\n",
    "\n",
    "The coefficient table output is shown and the coefficients are then used to score the original dataset to show probabilities for fire occurances for each incident record. A probability threshold can be chosen empirically to help determine which future incidents should be considered high risk for real fires.\n"
   ]
  },
  {
   "cell_type": "code",
   "execution_count": 31,
   "metadata": {},
   "outputs": [],
   "source": [
    "#create dummy variables for City, structure type and structure status\n",
    "cities = pd.get_dummies(fire[\"City\"], drop_first= True)\n",
    "fire_lm_set = pd.concat([fire,cities],axis=1)\n",
    "\n",
    "#additional dummy creation options for structure type and status\n",
    "#cities = pd.get_dummies(fire[\"City\"], drop_first= True)\n",
    "#st = pd.get_dummies(fire[\"stype\"],drop_first= True, prefix=\"stype\")\n",
    "#ss = pd.get_dummies(fire[\"s_status\"],drop_first= True, prefix=\"s_status\")\n",
    "\n"
   ]
  },
  {
   "cell_type": "code",
   "execution_count": 32,
   "metadata": {
    "ExecuteTime": {
     "end_time": "2019-10-27T05:45:06.523097Z",
     "start_time": "2019-10-27T05:45:04.933205Z"
    }
   },
   "outputs": [
    {
     "name": "stderr",
     "output_type": "stream",
     "text": [
      "C:\\ProgramData\\Anaconda3\\lib\\site-packages\\ipykernel_launcher.py:3: DeprecationWarning: Calling Family(..) with a link class as argument is deprecated.\n",
      "Use an instance of a link class instead.\n",
      "  This is separate from the ipykernel package so we can avoid doing imports until\n"
     ]
    }
   ],
   "source": [
    "glm = smf.glm('fire ~ month + day + stype + s_status + Brisbane + Daly_City + Fort_Mason + Hunters_Point + OAK + Presidio + San_Francisco + Treasure_Island + Yerba_Buena'\n",
    "                            , \n",
    "              data=fire_lm_set,  family=sm.families.Binomial(sm.families.links.logit)).fit()\n"
   ]
  },
  {
   "cell_type": "code",
   "execution_count": 33,
   "metadata": {
    "ExecuteTime": {
     "end_time": "2019-10-27T05:45:27.379964Z",
     "start_time": "2019-10-27T05:45:27.236112Z"
    }
   },
   "outputs": [
    {
     "data": {
      "text/html": [
       "<table class=\"simpletable\">\n",
       "<caption>Generalized Linear Model Regression Results</caption>\n",
       "<tr>\n",
       "  <th>Dep. Variable:</th>         <td>fire</td>       <th>  No. Observations:  </th>   <td>509740</td>  \n",
       "</tr>\n",
       "<tr>\n",
       "  <th>Model:</th>                  <td>GLM</td>       <th>  Df Residuals:      </th>   <td>509713</td>  \n",
       "</tr>\n",
       "<tr>\n",
       "  <th>Model Family:</th>        <td>Binomial</td>     <th>  Df Model:          </th>   <td>    26</td>  \n",
       "</tr>\n",
       "<tr>\n",
       "  <th>Link Function:</th>         <td>logit</td>      <th>  Scale:             </th>  <td>  1.0000</td> \n",
       "</tr>\n",
       "<tr>\n",
       "  <th>Method:</th>                <td>IRLS</td>       <th>  Log-Likelihood:    </th>  <td> -95668.</td> \n",
       "</tr>\n",
       "<tr>\n",
       "  <th>Date:</th>            <td>Sun, 27 Oct 2019</td> <th>  Deviance:          </th> <td>1.9134e+05</td>\n",
       "</tr>\n",
       "<tr>\n",
       "  <th>Time:</th>                <td>23:40:08</td>     <th>  Pearson chi2:      </th>  <td>5.09e+05</td> \n",
       "</tr>\n",
       "<tr>\n",
       "  <th>No. Iterations:</th>         <td>22</td>        <th>                     </th>      <td> </td>    \n",
       "</tr>\n",
       "<tr>\n",
       "  <th>Covariance Type:</th>     <td>nonrobust</td>    <th>                     </th>      <td> </td>    \n",
       "</tr>\n",
       "</table>\n",
       "<table class=\"simpletable\">\n",
       "<tr>\n",
       "         <td></td>            <th>coef</th>     <th>std err</th>      <th>z</th>      <th>P>|z|</th>  <th>[0.025</th>    <th>0.975]</th>  \n",
       "</tr>\n",
       "<tr>\n",
       "  <th>Intercept</th>       <td>   -3.1145</td> <td>    0.136</td> <td>  -22.841</td> <td> 0.000</td> <td>   -3.382</td> <td>   -2.847</td>\n",
       "</tr>\n",
       "<tr>\n",
       "  <th>stype[T.1]</th>      <td>    1.6642</td> <td>    0.176</td> <td>    9.447</td> <td> 0.000</td> <td>    1.319</td> <td>    2.009</td>\n",
       "</tr>\n",
       "<tr>\n",
       "  <th>stype[T.2]</th>      <td>    2.6768</td> <td>    0.247</td> <td>   10.823</td> <td> 0.000</td> <td>    2.192</td> <td>    3.162</td>\n",
       "</tr>\n",
       "<tr>\n",
       "  <th>stype[T.3]</th>      <td>    2.9370</td> <td>    0.119</td> <td>   24.614</td> <td> 0.000</td> <td>    2.703</td> <td>    3.171</td>\n",
       "</tr>\n",
       "<tr>\n",
       "  <th>stype[T.4]</th>      <td>    4.1728</td> <td>    1.156</td> <td>    3.610</td> <td> 0.000</td> <td>    1.908</td> <td>    6.438</td>\n",
       "</tr>\n",
       "<tr>\n",
       "  <th>stype[T.5]</th>      <td>    2.2603</td> <td>    0.171</td> <td>   13.223</td> <td> 0.000</td> <td>    1.925</td> <td>    2.595</td>\n",
       "</tr>\n",
       "<tr>\n",
       "  <th>stype[T.6]</th>      <td>    3.7130</td> <td>    0.248</td> <td>   14.998</td> <td> 0.000</td> <td>    3.228</td> <td>    4.198</td>\n",
       "</tr>\n",
       "<tr>\n",
       "  <th>stype[T.7]</th>      <td>    3.2027</td> <td>    0.366</td> <td>    8.739</td> <td> 0.000</td> <td>    2.484</td> <td>    3.921</td>\n",
       "</tr>\n",
       "<tr>\n",
       "  <th>stype[T.8]</th>      <td>    3.4241</td> <td>    0.298</td> <td>   11.509</td> <td> 0.000</td> <td>    2.841</td> <td>    4.007</td>\n",
       "</tr>\n",
       "<tr>\n",
       "  <th>s_status[T.1]</th>   <td>    1.7815</td> <td>    0.241</td> <td>    7.393</td> <td> 0.000</td> <td>    1.309</td> <td>    2.254</td>\n",
       "</tr>\n",
       "<tr>\n",
       "  <th>s_status[T.2]</th>   <td>    1.8604</td> <td>    0.175</td> <td>   10.618</td> <td> 0.000</td> <td>    1.517</td> <td>    2.204</td>\n",
       "</tr>\n",
       "<tr>\n",
       "  <th>s_status[T.3]</th>   <td>    3.3069</td> <td>    0.398</td> <td>    8.313</td> <td> 0.000</td> <td>    2.527</td> <td>    4.087</td>\n",
       "</tr>\n",
       "<tr>\n",
       "  <th>s_status[T.4]</th>   <td>    2.3825</td> <td>    0.289</td> <td>    8.251</td> <td> 0.000</td> <td>    1.817</td> <td>    2.948</td>\n",
       "</tr>\n",
       "<tr>\n",
       "  <th>s_status[T.5]</th>   <td>    2.5255</td> <td>    0.247</td> <td>   10.208</td> <td> 0.000</td> <td>    2.041</td> <td>    3.010</td>\n",
       "</tr>\n",
       "<tr>\n",
       "  <th>s_status[T.6]</th>   <td>    2.9032</td> <td>    0.300</td> <td>    9.683</td> <td> 0.000</td> <td>    2.316</td> <td>    3.491</td>\n",
       "</tr>\n",
       "<tr>\n",
       "  <th>s_status[T.7]</th>   <td>    1.7612</td> <td>    0.896</td> <td>    1.966</td> <td> 0.049</td> <td>    0.005</td> <td>    3.517</td>\n",
       "</tr>\n",
       "<tr>\n",
       "  <th>month</th>           <td>   -0.0233</td> <td>    0.002</td> <td>  -12.185</td> <td> 0.000</td> <td>   -0.027</td> <td>   -0.020</td>\n",
       "</tr>\n",
       "<tr>\n",
       "  <th>day</th>             <td>   -0.0058</td> <td>    0.001</td> <td>   -7.698</td> <td> 0.000</td> <td>   -0.007</td> <td>   -0.004</td>\n",
       "</tr>\n",
       "<tr>\n",
       "  <th>Brisbane</th>        <td>    1.0474</td> <td>    0.488</td> <td>    2.145</td> <td> 0.032</td> <td>    0.090</td> <td>    2.005</td>\n",
       "</tr>\n",
       "<tr>\n",
       "  <th>Daly_City</th>       <td>    0.4190</td> <td>    0.358</td> <td>    1.171</td> <td> 0.242</td> <td>   -0.282</td> <td>    1.120</td>\n",
       "</tr>\n",
       "<tr>\n",
       "  <th>Fort_Mason</th>      <td>   -0.6564</td> <td>    0.381</td> <td>   -1.723</td> <td> 0.085</td> <td>   -1.403</td> <td>    0.090</td>\n",
       "</tr>\n",
       "<tr>\n",
       "  <th>Hunters_Point</th>   <td>   -0.7933</td> <td>    0.476</td> <td>   -1.667</td> <td> 0.095</td> <td>   -1.726</td> <td>    0.139</td>\n",
       "</tr>\n",
       "<tr>\n",
       "  <th>OAK</th>             <td>  -20.2197</td> <td> 1.62e+04</td> <td>   -0.001</td> <td> 0.999</td> <td>-3.18e+04</td> <td> 3.17e+04</td>\n",
       "</tr>\n",
       "<tr>\n",
       "  <th>Presidio</th>        <td>   -0.3299</td> <td>    0.191</td> <td>   -1.726</td> <td> 0.084</td> <td>   -0.704</td> <td>    0.045</td>\n",
       "</tr>\n",
       "<tr>\n",
       "  <th>San_Francisco</th>   <td>    0.2765</td> <td>    0.136</td> <td>    2.038</td> <td> 0.042</td> <td>    0.011</td> <td>    0.542</td>\n",
       "</tr>\n",
       "<tr>\n",
       "  <th>Treasure_Island</th> <td>    0.5557</td> <td>    0.169</td> <td>    3.287</td> <td> 0.001</td> <td>    0.224</td> <td>    0.887</td>\n",
       "</tr>\n",
       "<tr>\n",
       "  <th>Yerba_Buena</th>     <td>   -0.1506</td> <td>    0.350</td> <td>   -0.431</td> <td> 0.667</td> <td>   -0.836</td> <td>    0.535</td>\n",
       "</tr>\n",
       "</table>"
      ],
      "text/plain": [
       "<class 'statsmodels.iolib.summary.Summary'>\n",
       "\"\"\"\n",
       "                 Generalized Linear Model Regression Results                  \n",
       "==============================================================================\n",
       "Dep. Variable:                   fire   No. Observations:               509740\n",
       "Model:                            GLM   Df Residuals:                   509713\n",
       "Model Family:                Binomial   Df Model:                           26\n",
       "Link Function:                  logit   Scale:                          1.0000\n",
       "Method:                          IRLS   Log-Likelihood:                -95668.\n",
       "Date:                Sun, 27 Oct 2019   Deviance:                   1.9134e+05\n",
       "Time:                        23:40:08   Pearson chi2:                 5.09e+05\n",
       "No. Iterations:                    22                                         \n",
       "Covariance Type:            nonrobust                                         \n",
       "===================================================================================\n",
       "                      coef    std err          z      P>|z|      [0.025      0.975]\n",
       "-----------------------------------------------------------------------------------\n",
       "Intercept          -3.1145      0.136    -22.841      0.000      -3.382      -2.847\n",
       "stype[T.1]          1.6642      0.176      9.447      0.000       1.319       2.009\n",
       "stype[T.2]          2.6768      0.247     10.823      0.000       2.192       3.162\n",
       "stype[T.3]          2.9370      0.119     24.614      0.000       2.703       3.171\n",
       "stype[T.4]          4.1728      1.156      3.610      0.000       1.908       6.438\n",
       "stype[T.5]          2.2603      0.171     13.223      0.000       1.925       2.595\n",
       "stype[T.6]          3.7130      0.248     14.998      0.000       3.228       4.198\n",
       "stype[T.7]          3.2027      0.366      8.739      0.000       2.484       3.921\n",
       "stype[T.8]          3.4241      0.298     11.509      0.000       2.841       4.007\n",
       "s_status[T.1]       1.7815      0.241      7.393      0.000       1.309       2.254\n",
       "s_status[T.2]       1.8604      0.175     10.618      0.000       1.517       2.204\n",
       "s_status[T.3]       3.3069      0.398      8.313      0.000       2.527       4.087\n",
       "s_status[T.4]       2.3825      0.289      8.251      0.000       1.817       2.948\n",
       "s_status[T.5]       2.5255      0.247     10.208      0.000       2.041       3.010\n",
       "s_status[T.6]       2.9032      0.300      9.683      0.000       2.316       3.491\n",
       "s_status[T.7]       1.7612      0.896      1.966      0.049       0.005       3.517\n",
       "month              -0.0233      0.002    -12.185      0.000      -0.027      -0.020\n",
       "day                -0.0058      0.001     -7.698      0.000      -0.007      -0.004\n",
       "Brisbane            1.0474      0.488      2.145      0.032       0.090       2.005\n",
       "Daly_City           0.4190      0.358      1.171      0.242      -0.282       1.120\n",
       "Fort_Mason         -0.6564      0.381     -1.723      0.085      -1.403       0.090\n",
       "Hunters_Point      -0.7933      0.476     -1.667      0.095      -1.726       0.139\n",
       "OAK               -20.2197   1.62e+04     -0.001      0.999   -3.18e+04    3.17e+04\n",
       "Presidio           -0.3299      0.191     -1.726      0.084      -0.704       0.045\n",
       "San_Francisco       0.2765      0.136      2.038      0.042       0.011       0.542\n",
       "Treasure_Island     0.5557      0.169      3.287      0.001       0.224       0.887\n",
       "Yerba_Buena        -0.1506      0.350     -0.431      0.667      -0.836       0.535\n",
       "===================================================================================\n",
       "\"\"\""
      ]
     },
     "execution_count": 33,
     "metadata": {},
     "output_type": "execute_result"
    }
   ],
   "source": [
    "#logit model co-efficients and summary\n",
    "glm.summary()"
   ]
  },
  {
   "cell_type": "markdown",
   "metadata": {},
   "source": [
    "The original output is scored and a summary of the probabilities for the incidents is given."
   ]
  },
  {
   "cell_type": "code",
   "execution_count": 34,
   "metadata": {},
   "outputs": [
    {
     "data": {
      "text/plain": [
       "0    0.046873\n",
       "1    0.056235\n",
       "2    0.042416\n",
       "3    0.040364\n",
       "4    0.044824\n",
       "5    0.043373\n",
       "6    0.042416\n",
       "7    0.043364\n",
       "8    0.044088\n",
       "9    0.025093\n",
       "dtype: float64"
      ]
     },
     "execution_count": 34,
     "metadata": {},
     "output_type": "execute_result"
    }
   ],
   "source": [
    "#show probability for first 10 incident records\n",
    "glm.predict(fire_lm_set).head(10)"
   ]
  },
  {
   "cell_type": "code",
   "execution_count": 35,
   "metadata": {
    "ExecuteTime": {
     "end_time": "2019-10-27T05:47:04.547295Z",
     "start_time": "2019-10-27T05:47:04.453886Z"
    }
   },
   "outputs": [
    {
     "data": {
      "text/plain": [
       "count    5.097400e+05\n",
       "mean     5.289952e-02\n",
       "std      7.125504e-02\n",
       "min      4.697891e-11\n",
       "25%      4.102311e-02\n",
       "50%      4.388270e-02\n",
       "75%      4.716101e-02\n",
       "max      9.796435e-01\n",
       "dtype: float64"
      ]
     },
     "execution_count": 35,
     "metadata": {},
     "output_type": "execute_result"
    }
   ],
   "source": [
    "#prediction summary\n",
    "glm.predict(fire_lm_set).describe()"
   ]
  },
  {
   "cell_type": "markdown",
   "metadata": {},
   "source": [
    "## Task 3b: Modelling for where fires will occur - Multinomial Logit Model\n",
    "\n",
    "In this second section of task 3, I create a model to predict where fires will occur. The \"City\" field is used as the dependent variable as it provides a succinct set of categorical outcomes. The neighbourhood districts field has too many possible options as outputs and therefore, it is unlikely for one category to stand out greatly. The \"San_Francisco\" entries are also eliminated, as there are over 500 000 of these records, which makes the dataset biased completely to the San Francisco category. As well since San Francisco also seems like a generic label, it was removed to focus on the other city options possible. Future work can look into better encoding of the \"San_Francisco\" label. \n",
    "\n",
    "The final subset has 289 records, and the independent variables are month and day. Structure type and structure status were also considered, however as there only 289 records and most of those entries are 0, they did not improve the predictive power of the model at all and were subsequently dropped.\n",
    "\n",
    "The final model uses Brisbane as the base city. A summary table of the coefficients and their p-values are given. The results of rolling out the model onto the original records is shown. The model provides 6 different outcome probabilities for an incident record. The outcome with the highest probability can be taken as the City where the fire is most likely to occur. "
   ]
  },
  {
   "cell_type": "code",
   "execution_count": 36,
   "metadata": {
    "ExecuteTime": {
     "end_time": "2019-10-27T06:20:51.272038Z",
     "start_time": "2019-10-27T06:20:51.224066Z"
    }
   },
   "outputs": [],
   "source": [
    "mn_sub = fire.loc[(fire[\"fire\"]==1) & (fire[\"City\"]!='San_Francisco'),[\"month\",\"day\",\"City\",\"stype\",\"s_status\"]]"
   ]
  },
  {
   "cell_type": "code",
   "execution_count": 37,
   "metadata": {
    "ExecuteTime": {
     "end_time": "2019-10-27T06:20:52.892216Z",
     "start_time": "2019-10-27T06:20:52.885216Z"
    }
   },
   "outputs": [
    {
     "name": "stderr",
     "output_type": "stream",
     "text": [
      "C:\\ProgramData\\Anaconda3\\lib\\site-packages\\numpy\\core\\fromnumeric.py:2389: FutureWarning: Method .ptp is deprecated and will be removed in a future version. Use numpy.ptp instead.\n",
      "  return ptp(axis=axis, out=out, **kwargs)\n"
     ]
    }
   ],
   "source": [
    "x = sm.add_constant(mn_sub, prepend = False)"
   ]
  },
  {
   "cell_type": "code",
   "execution_count": 38,
   "metadata": {
    "ExecuteTime": {
     "end_time": "2019-10-27T06:20:53.817572Z",
     "start_time": "2019-10-27T06:20:53.813576Z"
    }
   },
   "outputs": [],
   "source": [
    "x = x[[\"month\",\"day\",\"const\"]]"
   ]
  },
  {
   "cell_type": "code",
   "execution_count": 39,
   "metadata": {
    "ExecuteTime": {
     "end_time": "2019-10-27T06:20:54.675249Z",
     "start_time": "2019-10-27T06:20:54.669256Z"
    }
   },
   "outputs": [],
   "source": [
    "mdl = sm.MNLogit(mn_sub[\"City\"], x)"
   ]
  },
  {
   "cell_type": "code",
   "execution_count": 40,
   "metadata": {
    "ExecuteTime": {
     "end_time": "2019-10-27T06:20:55.247059Z",
     "start_time": "2019-10-27T06:20:55.213094Z"
    }
   },
   "outputs": [
    {
     "name": "stdout",
     "output_type": "stream",
     "text": [
      "Optimization terminated successfully.\n",
      "         Current function value: 1.469060\n",
      "         Iterations 7\n"
     ]
    }
   ],
   "source": [
    "mdl_fit = mdl.fit()"
   ]
  },
  {
   "cell_type": "code",
   "execution_count": 41,
   "metadata": {
    "ExecuteTime": {
     "end_time": "2019-10-27T06:20:56.072788Z",
     "start_time": "2019-10-27T06:20:55.870998Z"
    },
    "scrolled": false
   },
   "outputs": [
    {
     "data": {
      "text/html": [
       "<table class=\"simpletable\">\n",
       "<caption>MNLogit Regression Results</caption>\n",
       "<tr>\n",
       "  <th>Dep. Variable:</th>         <td>City</td>       <th>  No. Observations:  </th>  <td>   289</td> \n",
       "</tr>\n",
       "<tr>\n",
       "  <th>Model:</th>                <td>MNLogit</td>     <th>  Df Residuals:      </th>  <td>   268</td> \n",
       "</tr>\n",
       "<tr>\n",
       "  <th>Method:</th>                 <td>MLE</td>       <th>  Df Model:          </th>  <td>    14</td> \n",
       "</tr>\n",
       "<tr>\n",
       "  <th>Date:</th>            <td>Sun, 27 Oct 2019</td> <th>  Pseudo R-squ.:     </th>  <td>0.01966</td>\n",
       "</tr>\n",
       "<tr>\n",
       "  <th>Time:</th>                <td>23:40:24</td>     <th>  Log-Likelihood:    </th> <td> -424.56</td>\n",
       "</tr>\n",
       "<tr>\n",
       "  <th>converged:</th>             <td>True</td>       <th>  LL-Null:           </th> <td> -433.07</td>\n",
       "</tr>\n",
       "<tr>\n",
       "  <th>Covariance Type:</th>     <td>nonrobust</td>    <th>  LLR p-value:       </th>  <td>0.2546</td> \n",
       "</tr>\n",
       "</table>\n",
       "<table class=\"simpletable\">\n",
       "<tr>\n",
       "     <th>City=Daly_City</th>       <th>coef</th>     <th>std err</th>      <th>z</th>      <th>P>|z|</th>  <th>[0.025</th>    <th>0.975]</th>  \n",
       "</tr>\n",
       "<tr>\n",
       "  <th>month</th>                <td>    0.5326</td> <td>    0.203</td> <td>    2.627</td> <td> 0.009</td> <td>    0.135</td> <td>    0.930</td>\n",
       "</tr>\n",
       "<tr>\n",
       "  <th>day</th>                  <td>    0.0620</td> <td>    0.064</td> <td>    0.965</td> <td> 0.335</td> <td>   -0.064</td> <td>    0.188</td>\n",
       "</tr>\n",
       "<tr>\n",
       "  <th>const</th>                <td>   -3.9033</td> <td>    1.800</td> <td>   -2.168</td> <td> 0.030</td> <td>   -7.431</td> <td>   -0.375</td>\n",
       "</tr>\n",
       "<tr>\n",
       "  <th>City=Fort_Mason</th>    <th>coef</th>     <th>std err</th>      <th>z</th>      <th>P>|z|</th>  <th>[0.025</th>    <th>0.975]</th>  \n",
       "</tr>\n",
       "<tr>\n",
       "  <th>month</th>           <td>    0.3079</td> <td>    0.195</td> <td>    1.581</td> <td> 0.114</td> <td>   -0.074</td> <td>    0.690</td>\n",
       "</tr>\n",
       "<tr>\n",
       "  <th>day</th>             <td>    0.0284</td> <td>    0.064</td> <td>    0.446</td> <td> 0.655</td> <td>   -0.096</td> <td>    0.153</td>\n",
       "</tr>\n",
       "<tr>\n",
       "  <th>const</th>           <td>   -1.5910</td> <td>    1.582</td> <td>   -1.006</td> <td> 0.315</td> <td>   -4.692</td> <td>    1.510</td>\n",
       "</tr>\n",
       "<tr>\n",
       "  <th>City=Hunters_Point</th>    <th>coef</th>     <th>std err</th>      <th>z</th>      <th>P>|z|</th>  <th>[0.025</th>    <th>0.975]</th>  \n",
       "</tr>\n",
       "<tr>\n",
       "  <th>month</th>              <td>    0.1410</td> <td>    0.218</td> <td>    0.647</td> <td> 0.518</td> <td>   -0.286</td> <td>    0.569</td>\n",
       "</tr>\n",
       "<tr>\n",
       "  <th>day</th>                <td>    0.0139</td> <td>    0.071</td> <td>    0.195</td> <td> 0.846</td> <td>   -0.126</td> <td>    0.154</td>\n",
       "</tr>\n",
       "<tr>\n",
       "  <th>const</th>              <td>   -0.8981</td> <td>    1.695</td> <td>   -0.530</td> <td> 0.596</td> <td>   -4.221</td> <td>    2.425</td>\n",
       "</tr>\n",
       "<tr>\n",
       "  <th>City=Presidio</th>    <th>coef</th>     <th>std err</th>      <th>z</th>      <th>P>|z|</th>  <th>[0.025</th>    <th>0.975]</th>  \n",
       "</tr>\n",
       "<tr>\n",
       "  <th>month</th>         <td>    0.2693</td> <td>    0.167</td> <td>    1.610</td> <td> 0.107</td> <td>   -0.059</td> <td>    0.597</td>\n",
       "</tr>\n",
       "<tr>\n",
       "  <th>day</th>           <td>   -0.0078</td> <td>    0.052</td> <td>   -0.148</td> <td> 0.882</td> <td>   -0.110</td> <td>    0.095</td>\n",
       "</tr>\n",
       "<tr>\n",
       "  <th>const</th>         <td>    1.1851</td> <td>    1.197</td> <td>    0.990</td> <td> 0.322</td> <td>   -1.161</td> <td>    3.531</td>\n",
       "</tr>\n",
       "<tr>\n",
       "  <th>City=Treasure_Island</th>    <th>coef</th>     <th>std err</th>      <th>z</th>      <th>P>|z|</th>  <th>[0.025</th>    <th>0.975]</th>  \n",
       "</tr>\n",
       "<tr>\n",
       "  <th>month</th>                <td>    0.2815</td> <td>    0.165</td> <td>    1.708</td> <td> 0.088</td> <td>   -0.042</td> <td>    0.605</td>\n",
       "</tr>\n",
       "<tr>\n",
       "  <th>day</th>                  <td>   -0.0013</td> <td>    0.051</td> <td>   -0.026</td> <td> 0.979</td> <td>   -0.102</td> <td>    0.099</td>\n",
       "</tr>\n",
       "<tr>\n",
       "  <th>const</th>                <td>    1.7315</td> <td>    1.169</td> <td>    1.482</td> <td> 0.138</td> <td>   -0.559</td> <td>    4.022</td>\n",
       "</tr>\n",
       "<tr>\n",
       "  <th>City=Yerba_Buena</th>    <th>coef</th>     <th>std err</th>      <th>z</th>      <th>P>|z|</th>  <th>[0.025</th>    <th>0.975]</th>  \n",
       "</tr>\n",
       "<tr>\n",
       "  <th>month</th>            <td>    0.2141</td> <td>    0.191</td> <td>    1.121</td> <td> 0.262</td> <td>   -0.160</td> <td>    0.588</td>\n",
       "</tr>\n",
       "<tr>\n",
       "  <th>day</th>              <td>    0.0152</td> <td>    0.062</td> <td>    0.245</td> <td> 0.806</td> <td>   -0.106</td> <td>    0.136</td>\n",
       "</tr>\n",
       "<tr>\n",
       "  <th>const</th>            <td>   -0.6457</td> <td>    1.473</td> <td>   -0.438</td> <td> 0.661</td> <td>   -3.533</td> <td>    2.242</td>\n",
       "</tr>\n",
       "<tr>\n",
       "  <th>City=nan</th>    <th>coef</th>     <th>std err</th>      <th>z</th>      <th>P>|z|</th>  <th>[0.025</th>    <th>0.975]</th>  \n",
       "</tr>\n",
       "<tr>\n",
       "  <th>month</th>    <td>    0.1908</td> <td>    0.167</td> <td>    1.142</td> <td> 0.253</td> <td>   -0.137</td> <td>    0.518</td>\n",
       "</tr>\n",
       "<tr>\n",
       "  <th>day</th>      <td>   -0.0065</td> <td>    0.052</td> <td>   -0.124</td> <td> 0.901</td> <td>   -0.109</td> <td>    0.096</td>\n",
       "</tr>\n",
       "<tr>\n",
       "  <th>const</th>    <td>    1.6270</td> <td>    1.188</td> <td>    1.369</td> <td> 0.171</td> <td>   -0.702</td> <td>    3.956</td>\n",
       "</tr>\n",
       "</table>"
      ],
      "text/plain": [
       "<class 'statsmodels.iolib.summary.Summary'>\n",
       "\"\"\"\n",
       "                          MNLogit Regression Results                          \n",
       "==============================================================================\n",
       "Dep. Variable:                   City   No. Observations:                  289\n",
       "Model:                        MNLogit   Df Residuals:                      268\n",
       "Method:                           MLE   Df Model:                           14\n",
       "Date:                Sun, 27 Oct 2019   Pseudo R-squ.:                 0.01966\n",
       "Time:                        23:40:24   Log-Likelihood:                -424.56\n",
       "converged:                       True   LL-Null:                       -433.07\n",
       "Covariance Type:            nonrobust   LLR p-value:                    0.2546\n",
       "==============================================================================\n",
       "      City=Daly_City       coef    std err          z      P>|z|      [0.025      0.975]\n",
       "----------------------------------------------------------------------------------------\n",
       "month                    0.5326      0.203      2.627      0.009       0.135       0.930\n",
       "day                      0.0620      0.064      0.965      0.335      -0.064       0.188\n",
       "const                   -3.9033      1.800     -2.168      0.030      -7.431      -0.375\n",
       "----------------------------------------------------------------------------------------\n",
       "City=Fort_Mason       coef    std err          z      P>|z|      [0.025      0.975]\n",
       "-----------------------------------------------------------------------------------\n",
       "month               0.3079      0.195      1.581      0.114      -0.074       0.690\n",
       "day                 0.0284      0.064      0.446      0.655      -0.096       0.153\n",
       "const              -1.5910      1.582     -1.006      0.315      -4.692       1.510\n",
       "-----------------------------------------------------------------------------------\n",
       "City=Hunters_Point       coef    std err          z      P>|z|      [0.025      0.975]\n",
       "--------------------------------------------------------------------------------------\n",
       "month                  0.1410      0.218      0.647      0.518      -0.286       0.569\n",
       "day                    0.0139      0.071      0.195      0.846      -0.126       0.154\n",
       "const                 -0.8981      1.695     -0.530      0.596      -4.221       2.425\n",
       "--------------------------------------------------------------------------------------\n",
       "City=Presidio       coef    std err          z      P>|z|      [0.025      0.975]\n",
       "---------------------------------------------------------------------------------\n",
       "month             0.2693      0.167      1.610      0.107      -0.059       0.597\n",
       "day              -0.0078      0.052     -0.148      0.882      -0.110       0.095\n",
       "const             1.1851      1.197      0.990      0.322      -1.161       3.531\n",
       "---------------------------------------------------------------------------------\n",
       "City=Treasure_Island       coef    std err          z      P>|z|      [0.025      0.975]\n",
       "----------------------------------------------------------------------------------------\n",
       "month                    0.2815      0.165      1.708      0.088      -0.042       0.605\n",
       "day                     -0.0013      0.051     -0.026      0.979      -0.102       0.099\n",
       "const                    1.7315      1.169      1.482      0.138      -0.559       4.022\n",
       "----------------------------------------------------------------------------------------\n",
       "City=Yerba_Buena       coef    std err          z      P>|z|      [0.025      0.975]\n",
       "------------------------------------------------------------------------------------\n",
       "month                0.2141      0.191      1.121      0.262      -0.160       0.588\n",
       "day                  0.0152      0.062      0.245      0.806      -0.106       0.136\n",
       "const               -0.6457      1.473     -0.438      0.661      -3.533       2.242\n",
       "------------------------------------------------------------------------------------\n",
       "  City=nan       coef    std err          z      P>|z|      [0.025      0.975]\n",
       "------------------------------------------------------------------------------\n",
       "month          0.1908      0.167      1.142      0.253      -0.137       0.518\n",
       "day           -0.0065      0.052     -0.124      0.901      -0.109       0.096\n",
       "const          1.6270      1.188      1.369      0.171      -0.702       3.956\n",
       "==============================================================================\n",
       "\"\"\""
      ]
     },
     "execution_count": 41,
     "metadata": {},
     "output_type": "execute_result"
    }
   ],
   "source": [
    "#coefficient table\n",
    "mdl_fit.summary()"
   ]
  },
  {
   "cell_type": "code",
   "execution_count": 42,
   "metadata": {
    "ExecuteTime": {
     "end_time": "2019-10-27T06:22:31.675285Z",
     "start_time": "2019-10-27T06:22:31.655305Z"
    }
   },
   "outputs": [
    {
     "data": {
      "text/html": [
       "<div>\n",
       "<style scoped>\n",
       "    .dataframe tbody tr th:only-of-type {\n",
       "        vertical-align: middle;\n",
       "    }\n",
       "\n",
       "    .dataframe tbody tr th {\n",
       "        vertical-align: top;\n",
       "    }\n",
       "\n",
       "    .dataframe thead th {\n",
       "        text-align: right;\n",
       "    }\n",
       "</style>\n",
       "<table border=\"1\" class=\"dataframe\">\n",
       "  <thead>\n",
       "    <tr style=\"text-align: right;\">\n",
       "      <th></th>\n",
       "      <th>0</th>\n",
       "      <th>1</th>\n",
       "      <th>2</th>\n",
       "      <th>3</th>\n",
       "      <th>4</th>\n",
       "      <th>5</th>\n",
       "      <th>6</th>\n",
       "      <th>7</th>\n",
       "    </tr>\n",
       "  </thead>\n",
       "  <tbody>\n",
       "    <tr>\n",
       "      <th>1359</th>\n",
       "      <td>0.031419</td>\n",
       "      <td>0.006592</td>\n",
       "      <td>0.022660</td>\n",
       "      <td>0.023082</td>\n",
       "      <td>0.210062</td>\n",
       "      <td>0.406434</td>\n",
       "      <td>0.037551</td>\n",
       "      <td>0.262200</td>\n",
       "    </tr>\n",
       "    <tr>\n",
       "      <th>3037</th>\n",
       "      <td>0.011469</td>\n",
       "      <td>0.015809</td>\n",
       "      <td>0.025309</td>\n",
       "      <td>0.014012</td>\n",
       "      <td>0.232297</td>\n",
       "      <td>0.460005</td>\n",
       "      <td>0.030377</td>\n",
       "      <td>0.210721</td>\n",
       "    </tr>\n",
       "    <tr>\n",
       "      <th>4455</th>\n",
       "      <td>0.011521</td>\n",
       "      <td>0.042817</td>\n",
       "      <td>0.040026</td>\n",
       "      <td>0.017576</td>\n",
       "      <td>0.206109</td>\n",
       "      <td>0.452238</td>\n",
       "      <td>0.038883</td>\n",
       "      <td>0.190830</td>\n",
       "    </tr>\n",
       "    <tr>\n",
       "      <th>6374</th>\n",
       "      <td>0.008889</td>\n",
       "      <td>0.030271</td>\n",
       "      <td>0.031639</td>\n",
       "      <td>0.013590</td>\n",
       "      <td>0.224953</td>\n",
       "      <td>0.468619</td>\n",
       "      <td>0.031936</td>\n",
       "      <td>0.190103</td>\n",
       "    </tr>\n",
       "    <tr>\n",
       "      <th>6582</th>\n",
       "      <td>0.008888</td>\n",
       "      <td>0.034266</td>\n",
       "      <td>0.033485</td>\n",
       "      <td>0.013972</td>\n",
       "      <td>0.221481</td>\n",
       "      <td>0.467342</td>\n",
       "      <td>0.032917</td>\n",
       "      <td>0.187648</td>\n",
       "    </tr>\n",
       "    <tr>\n",
       "      <th>...</th>\n",
       "      <td>...</td>\n",
       "      <td>...</td>\n",
       "      <td>...</td>\n",
       "      <td>...</td>\n",
       "      <td>...</td>\n",
       "      <td>...</td>\n",
       "      <td>...</td>\n",
       "      <td>...</td>\n",
       "    </tr>\n",
       "    <tr>\n",
       "      <th>504386</th>\n",
       "      <td>0.019339</td>\n",
       "      <td>0.033773</td>\n",
       "      <td>0.041822</td>\n",
       "      <td>0.023852</td>\n",
       "      <td>0.194207</td>\n",
       "      <td>0.429389</td>\n",
       "      <td>0.045884</td>\n",
       "      <td>0.211734</td>\n",
       "    </tr>\n",
       "    <tr>\n",
       "      <th>506400</th>\n",
       "      <td>0.014596</td>\n",
       "      <td>0.007653</td>\n",
       "      <td>0.019409</td>\n",
       "      <td>0.014052</td>\n",
       "      <td>0.238424</td>\n",
       "      <td>0.445937</td>\n",
       "      <td>0.028068</td>\n",
       "      <td>0.231861</td>\n",
       "    </tr>\n",
       "    <tr>\n",
       "      <th>506759</th>\n",
       "      <td>0.005202</td>\n",
       "      <td>0.024427</td>\n",
       "      <td>0.024388</td>\n",
       "      <td>0.008927</td>\n",
       "      <td>0.247607</td>\n",
       "      <td>0.489424</td>\n",
       "      <td>0.023910</td>\n",
       "      <td>0.176115</td>\n",
       "    </tr>\n",
       "    <tr>\n",
       "      <th>508814</th>\n",
       "      <td>0.014596</td>\n",
       "      <td>0.007653</td>\n",
       "      <td>0.019409</td>\n",
       "      <td>0.014052</td>\n",
       "      <td>0.238424</td>\n",
       "      <td>0.445937</td>\n",
       "      <td>0.028068</td>\n",
       "      <td>0.231861</td>\n",
       "    </tr>\n",
       "    <tr>\n",
       "      <th>508883</th>\n",
       "      <td>0.005184</td>\n",
       "      <td>0.057990</td>\n",
       "      <td>0.036158</td>\n",
       "      <td>0.010806</td>\n",
       "      <td>0.221390</td>\n",
       "      <td>0.478699</td>\n",
       "      <td>0.029461</td>\n",
       "      <td>0.160312</td>\n",
       "    </tr>\n",
       "  </tbody>\n",
       "</table>\n",
       "<p>289 rows × 8 columns</p>\n",
       "</div>"
      ],
      "text/plain": [
       "               0         1         2         3         4         5         6  \\\n",
       "1359    0.031419  0.006592  0.022660  0.023082  0.210062  0.406434  0.037551   \n",
       "3037    0.011469  0.015809  0.025309  0.014012  0.232297  0.460005  0.030377   \n",
       "4455    0.011521  0.042817  0.040026  0.017576  0.206109  0.452238  0.038883   \n",
       "6374    0.008889  0.030271  0.031639  0.013590  0.224953  0.468619  0.031936   \n",
       "6582    0.008888  0.034266  0.033485  0.013972  0.221481  0.467342  0.032917   \n",
       "...          ...       ...       ...       ...       ...       ...       ...   \n",
       "504386  0.019339  0.033773  0.041822  0.023852  0.194207  0.429389  0.045884   \n",
       "506400  0.014596  0.007653  0.019409  0.014052  0.238424  0.445937  0.028068   \n",
       "506759  0.005202  0.024427  0.024388  0.008927  0.247607  0.489424  0.023910   \n",
       "508814  0.014596  0.007653  0.019409  0.014052  0.238424  0.445937  0.028068   \n",
       "508883  0.005184  0.057990  0.036158  0.010806  0.221390  0.478699  0.029461   \n",
       "\n",
       "               7  \n",
       "1359    0.262200  \n",
       "3037    0.210721  \n",
       "4455    0.190830  \n",
       "6374    0.190103  \n",
       "6582    0.187648  \n",
       "...          ...  \n",
       "504386  0.211734  \n",
       "506400  0.231861  \n",
       "506759  0.176115  \n",
       "508814  0.231861  \n",
       "508883  0.160312  \n",
       "\n",
       "[289 rows x 8 columns]"
      ]
     },
     "execution_count": 42,
     "metadata": {},
     "output_type": "execute_result"
    }
   ],
   "source": [
    "#model prediction for incident records\n",
    "mdl_fit.predict(x)"
   ]
  },
  {
   "cell_type": "markdown",
   "metadata": {},
   "source": [
    "## Task 3: Limitations\n",
    "\n",
    "There are a few limitations regarding logit and multinomial logit models that should be considered:\n",
    "\n",
    "1.\tThe selection of independent variables is critical to the model’s predictive ability. The selection of independent variables was based on a quick exploratory analysis of the dataset. Additional understanding of fire incidents can help inform which additional features should be included into the regression models. Context specific knowledge is very important in facilitating the selection of useful independent variables.\n",
    "<p>\n",
    "\n",
    "2.\tThe regression models also assume that each individual record is independent to the next one. This may not be the case as certain incidents can be linked together through the exposure number. Exploratory analysis showed that this may not be an issue as most incidents seemed to be individual ones. \n",
    "<p>\n",
    "3.\tOverfitting or the overstating of the accuracy of the prediction is also a potential pitfall for logit and multinomial logit models. If there is sampling bias towards one group or another, this may lead to overfitting, where the model works very well with the data that is used to calibrate it, however, when external data is fed into the model, the accuracy drops significantly. The fire incidents dataset is heavily biased towards non-fire occurring incidents; therefore, this bias may be affecting the final model coefficients. A larger sample with less polarization in both the dependent variable and independent variables can be used to help address these problems.\n",
    "<p>\n",
    "4.\tMulticollinearity or high correlation values among independent variables was not assessed. This is an important issue as including independent variables with high levels of multicollinearity can impact the coefficients and decrease the accuracy of the model. Different measures of correlation for categorical variables (ie. Biserial correlation, Spearman’s) can be used to assess correlation in future work.\n",
    "<p>\n",
    "5.\tFinally, it should also be noted that the outcomes need to be categorical for both logit and multinomial logits. These models work when we are looking at discrete outcomes such as will a fire occur or not and which city will the fire most likely occur in?\n"
   ]
  },
  {
   "cell_type": "markdown",
   "metadata": {},
   "source": [
    "## Task 4: Additional information regarding features in the dataset\n",
    "\n",
    "There are a few additional aspects regarding the fire incident dataset that should be noted:\n",
    "\n",
    "1.\tThe dataset holds a lot of sparse values, such as “Area of Origin” is not filled out for many of the incidents where a real fire has occurred.\n",
    "<p>\n",
    "    \n",
    "2.\tThe data not consistent. For example, in the “address” field, different rows have different levels of address information. For the “City” field, abbreviations and capitalizations are used which results in multiple duplicate groups when aggregating. \n",
    "<p>\n",
    "3.\tFor fields like “Primary Situation” and “Property Use” where there is a numeric code and a string description, the two elements should be separated into their own atomic fields. This will help with standardizing the descriptions and make the numeric codes more useful for classification\n",
    "<p>\n",
    "4.\tSome fields such as “Area of Origin” and “Mutual Aid” contain uncleaned data with unnecessary strings such as “uu” and “n none” respectively. These additional characters make the data hard to summarize and make the fields inconsistent and invalid. They should be cleaned before further processing.\n",
    "<p>\n",
    "5.\tThere are also columns that are somewhat duplicate and the distinction is unclear. The “Neighbourhood District” column includes some of the cities from the “City” field, indicating that the categories in the City field are not necessarily distinct cities. These columns need to be reconciled and redundant ones deleted. If one is a subset of the other to create more analysis, it should be renamed and a mapping between categories should be clearly stated.\n",
    "<p>\n",
    "6.\tMost of these features are also post-hoc features which are determined after a fire. For example, the number of EMS units and suppression units sent in can only be determined after a fire is determined to have broken out. If the dataset contained more information regarding the property or features known before hand, such as last maintenance, number of floors, date of construction, presence of flammable materials, temperature and distance to fire station, these can provide a greater set of relevant independent variables for the models.\n",
    "<p>"
   ]
  },
  {
   "cell_type": "markdown",
   "metadata": {},
   "source": [
    "# References\n",
    "<p>\n",
    "<li>https://pandas.pydata.org/pandas-docs/version/0.23.4/generated/pandas.get_dummies.html\n",
    "<li>https://docs.python.org/2/library/calendar.html\n",
    "<li>https://docs.scipy.org/doc/\n",
    "<li>https://pandas.pydata.org/pandas-docs/stable/\n",
    "<li>https://seaborn.pydata.org/examples/index.html\n",
    "<li>https://data.sfgov.org/Public-Safety/Police-Department-Incident-Reports-2018-to-Present/wg3w-h783\n",
    "<li>https://data.sfgov.org/Public-Safety/Police-Department-Incident-Reports-Historical-2003/tmnf-yvry\n",
    "<li>https://data.sfgov.org/Public-Safety/Fire-Incidents/wr8u-xric\n",
    "<li>https://www.guru99.com/date-time-and-datetime-classes-in-python.html\n",
    "<li>https://www.statsmodels.org/stable/example_formulas.html\n",
    "<li>https://stackoverflow.com/questions/35131798/tweaking-seaborn-boxplot\n",
    "<li>https://python-graph-gallery.com/30-basic-boxplot-with-seaborn/\n",
    "<li>https://stackoverflow.com/questions/26540035/rotate-label-text-in-seaborn-factorplot/26540821\n",
    "<li>https://intellipaat.com/community/21080/re-sub-erroring-with-expected-string-or-bytes-like-object\n",
    "<li>https://machinelearning-blog.com/2018/04/23/logistic-regression-101/\n",
    "<li>https://www.ncbi.nlm.nih.gov/pmc/articles/PMC5543767/\n"
   ]
  },
  {
   "cell_type": "markdown",
   "metadata": {},
   "source": [
    "## End of Analysis and Report"
   ]
  }
 ],
 "metadata": {
  "kernelspec": {
   "display_name": "Python 3",
   "language": "python",
   "name": "python3"
  },
  "language_info": {
   "codemirror_mode": {
    "name": "ipython",
    "version": 3
   },
   "file_extension": ".py",
   "mimetype": "text/x-python",
   "name": "python",
   "nbconvert_exporter": "python",
   "pygments_lexer": "ipython3",
   "version": "3.7.6"
  }
 },
 "nbformat": 4,
 "nbformat_minor": 2
}
